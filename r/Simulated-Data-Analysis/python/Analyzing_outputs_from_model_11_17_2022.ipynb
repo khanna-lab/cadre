{
 "cells": [
  {
   "cell_type": "code",
   "execution_count": 1,
   "id": "5a0ac269",
   "metadata": {},
   "outputs": [],
   "source": [
    "# Import the needed packages\n",
    "import math\n",
    "import pandas as pd\n",
    "import numpy as np\n",
    "import matplotlib\n",
    "from matplotlib import pylab as plt\n",
    "import seaborn as sns\n",
    "import networkx as nx"
   ]
  },
  {
   "cell_type": "code",
   "execution_count": 2,
   "id": "be22ac01",
   "metadata": {},
   "outputs": [],
   "source": [
    "# read in the needed data\n",
    "# These data are pretty large since they were ran for a total of 30 years\n",
    "agent_log_1_df = pd.read_csv('agent_log.csv')\n",
    "counts_log_1_df = pd.read_csv('counts_log.csv')\n",
    "network_log_1_df = pd.read_csv('network_log.csv')"
   ]
  },
  {
   "cell_type": "code",
   "execution_count": 3,
   "id": "a801bbf1",
   "metadata": {},
   "outputs": [],
   "source": [
    "agent_log_1_df_time_10950 = agent_log_1_df.loc[agent_log_1_df['tick'] == 10950].reset_index()\n",
    "network_log_1_df_time_10950 = network_log_1_df.loc[network_log_1_df['tick'] == 10950].reset_index()"
   ]
  },
  {
   "cell_type": "markdown",
   "id": "3e0f30b5",
   "metadata": {},
   "source": [
    "### Q1: What are the final state distributions for alcohol?"
   ]
  },
  {
   "cell_type": "code",
   "execution_count": 4,
   "id": "bbed8bb4",
   "metadata": {},
   "outputs": [
    {
     "name": "stdout",
     "output_type": "stream",
     "text": [
      "1    7283\n",
      "2    1323\n",
      "0     838\n",
      "3     556\n",
      "Name: alc_use_status, dtype: int64\n"
     ]
    }
   ],
   "source": [
    "print(agent_log_1_df_time_10950['alc_use_status'].value_counts())"
   ]
  },
  {
   "cell_type": "markdown",
   "id": "d7b97b6d",
   "metadata": {},
   "source": [
    "### Q2: What are the final state distributions for smoking?"
   ]
  },
  {
   "cell_type": "code",
   "execution_count": 5,
   "id": "f6842a05",
   "metadata": {},
   "outputs": [
    {
     "name": "stdout",
     "output_type": "stream",
     "text": [
      "Never      4550\n",
      "Former     4076\n",
      "Current    1374\n",
      "Name: smoking_status, dtype: int64\n"
     ]
    }
   ],
   "source": [
    "print(agent_log_1_df_time_10950['smoking_status'].value_counts())"
   ]
  }
 ],
 "metadata": {
  "kernelspec": {
   "display_name": "Python 3 (ipykernel)",
   "language": "python",
   "name": "python3"
  },
  "language_info": {
   "codemirror_mode": {
    "name": "ipython",
    "version": 3
   },
   "file_extension": ".py",
   "mimetype": "text/x-python",
   "name": "python",
   "nbconvert_exporter": "python",
   "pygments_lexer": "ipython3",
   "version": "3.9.12"
  }
 },
 "nbformat": 4,
 "nbformat_minor": 5
}
