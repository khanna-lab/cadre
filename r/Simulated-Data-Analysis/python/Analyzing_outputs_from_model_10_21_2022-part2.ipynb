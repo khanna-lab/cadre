{
 "cells": [
  {
   "cell_type": "code",
   "execution_count": 1,
   "id": "517b60f7",
   "metadata": {},
   "outputs": [],
   "source": [
    "# Import the needed packages\n",
    "\n",
    "import pandas as pd\n",
    "import numpy as np\n",
    "import matplotlib\n",
    "from matplotlib import pylab as plt\n",
    "import seaborn as sns\n",
    "import networkx as nx"
   ]
  },
  {
   "cell_type": "code",
   "execution_count": 2,
   "id": "5b7ddfb3",
   "metadata": {},
   "outputs": [],
   "source": [
    "# read in the needed data\n",
    "\n",
    "agent_log_1_df = pd.read_csv('/users/yzhan636/data/akhann16/cadre_simulated_data/2022-10-19/agent_log_1.csv')\n",
    "counts_log_1_df = pd.read_csv('/users/yzhan636/data/akhann16/cadre_simulated_data/2022-10-19/counts_log_1.csv')\n",
    "network_log_1_df = pd.read_csv('/users/yzhan636/data/akhann16/cadre_simulated_data/2022-10-19/network_log_1.csv')"
   ]
  },
  {
   "cell_type": "code",
   "execution_count": 3,
   "id": "aa8bffa3",
   "metadata": {},
   "outputs": [
    {
     "name": "stdout",
     "output_type": "stream",
     "text": [
      "       tick\n",
      "tick       \n",
      "1     50220\n",
      "11    50220\n",
      "21    50220\n",
      "31    50220\n",
      "41    50220\n",
      "...     ...\n",
      "951   50222\n",
      "961   50222\n",
      "971   50222\n",
      "981   50222\n",
      "991   50222\n",
      "\n",
      "[100 rows x 1 columns]\n"
     ]
    }
   ],
   "source": [
    "# Print out the number of connections in each time step\n",
    "network_1_count_summary = network_log_1_df.groupby(['tick'])['tick'].count()\n",
    "network_1_count_summary = pd.DataFrame(data=network_1_count_summary)\n",
    "print(network_1_count_summary)\n",
    "\n",
    "# The first time starts at time 1"
   ]
  },
  {
   "cell_type": "code",
   "execution_count": 4,
   "id": "1a189294",
   "metadata": {},
   "outputs": [],
   "source": [
    "network_log_1_df_time_0 = network_log_1_df.loc[network_log_1_df['tick'] == 0]\n",
    "network_log_1_df_time_1 = network_log_1_df.loc[network_log_1_df['tick'] == 1]\n",
    "network_log_1_df_time_91 = network_log_1_df.loc[network_log_1_df['tick'] == 91]\n",
    "network_log_1_df_time_491 = network_log_1_df.loc[network_log_1_df['tick'] == 491]\n",
    "network_log_1_df_time_991 = network_log_1_df.loc[network_log_1_df['tick'] == 991]\n",
    "\n",
    "agent_log_1_df_time_0 = agent_log_1_df.loc[agent_log_1_df['tick'] == 0]\n",
    "agent_log_1_df_time_1 = agent_log_1_df.loc[agent_log_1_df['tick'] == 1]\n",
    "agent_log_1_df_time_91 = agent_log_1_df.loc[agent_log_1_df['tick'] == 91]\n",
    "agent_log_1_df_time_491 = agent_log_1_df.loc[agent_log_1_df['tick'] == 491]\n",
    "agent_log_1_df_time_991 = agent_log_1_df.loc[agent_log_1_df['tick'] == 991]"
   ]
  },
  {
   "cell_type": "markdown",
   "id": "201a5801",
   "metadata": {},
   "source": [
    "# Analyze the networks part"
   ]
  },
  {
   "cell_type": "markdown",
   "id": "8001c725",
   "metadata": {},
   "source": [
    "### Q1: How many people are connected in the beginning (time step 1)?"
   ]
  },
  {
   "cell_type": "code",
   "execution_count": 5,
   "id": "fb8d0d6c",
   "metadata": {},
   "outputs": [
    {
     "data": {
      "text/plain": [
       "<seaborn.axisgrid.FacetGrid at 0x7f29b844b0d0>"
      ]
     },
     "execution_count": 5,
     "metadata": {},
     "output_type": "execute_result"
    },
    {
     "data": {
      "image/png": "[encoded data removed]",
      "text/plain": [
       "<Figure size 360x360 with 1 Axes>"
      ]
     },
     "metadata": {
      "needs_background": "light"
     },
     "output_type": "display_data"
    }
   ],
   "source": [
    "sns.displot(network_log_1_df, x=\"tick\", binwidth=3).set(title='Count of connections for different timestep')"
   ]
  },
  {
   "cell_type": "code",
   "execution_count": 6,
   "id": "6e650b76",
   "metadata": {},
   "outputs": [
    {
     "data": {
      "text/plain": [
       "[Text(0.5, 1.0, 'Count of agents in different time ticks')]"
      ]
     },
     "execution_count": 6,
     "metadata": {},
     "output_type": "execute_result"
    },
    {
     "data": {
      "image/png": "[encoded data removed]",
      "text/plain": [
       "<Figure size 432x288 with 1 Axes>"
      ]
     },
     "metadata": {
      "needs_background": "light"
     },
     "output_type": "display_data"
    }
   ],
   "source": [
    "#sns.displot(agent_log_1_df, x=\"tick\")\n",
    "sns.countplot(x='tick', data=agent_log_1_df).set(title='Count of agents in different time ticks')"
   ]
  },
  {
   "cell_type": "code",
   "execution_count": 7,
   "id": "47be1944",
   "metadata": {},
   "outputs": [
    {
     "name": "stdout",
     "output_type": "stream",
     "text": [
      "       tick    p1     p2\n",
      "0         1     0    967\n",
      "1         1     0   1647\n",
      "2         1     0   1811\n",
      "3         1     0   2128\n",
      "4         1     0   4811\n",
      "...     ...   ...    ...\n",
      "50215     1  9976   9992\n",
      "50216     1  9982  10191\n",
      "50217     1  9993  10021\n",
      "50218     1  9993  10185\n",
      "50219     1  9996  10087\n",
      "\n",
      "[50220 rows x 3 columns]\n"
     ]
    }
   ],
   "source": [
    "print(network_log_1_df_time_1)"
   ]
  },
  {
   "cell_type": "code",
   "execution_count": 8,
   "id": "34d98bee",
   "metadata": {},
   "outputs": [
    {
     "name": "stdout",
     "output_type": "stream",
     "text": [
      "The number of people that has connections at time step 1 is 10000\n"
     ]
    }
   ],
   "source": [
    "network_log_1_df_time_1_p1 = network_log_1_df_time_1['p1'].tolist()\n",
    "network_log_1_df_time_1_p2 = network_log_1_df_time_1['p2'].tolist()\n",
    "\n",
    "print(\"The number of people that has connections at time step 1 is\",len(np.unique(network_log_1_df_time_1_p1 + network_log_1_df_time_1_p2)))"
   ]
  },
  {
   "cell_type": "code",
   "execution_count": 9,
   "id": "98614c4f",
   "metadata": {},
   "outputs": [
    {
     "name": "stdout",
     "output_type": "stream",
     "text": [
      "unique number of cennections at time 1 is 50220\n"
     ]
    }
   ],
   "source": [
    "network_log_1_df_time_1_connections_list = []\n",
    "for i in range(network_log_1_df_time_1.shape[0]):\n",
    "    network_log_1_df_time_1_connections_list.append({network_log_1_df_time_1.iloc[i][\"p1\"], network_log_1_df_time_1.iloc[i][\"p2\"]})\n",
    "\n",
    "network_log_1_df_time_1_connections_list_res = []\n",
    "for item in network_log_1_df_time_1_connections_list: \n",
    "    if item not in network_log_1_df_time_1_connections_list_res: \n",
    "        network_log_1_df_time_1_connections_list_res.append(item) \n",
    "\n",
    "print(\"unique number of cennections at time 1 is\", len(network_log_1_df_time_1_connections_list_res))"
   ]
  },
  {
   "cell_type": "markdown",
   "id": "20095b6d",
   "metadata": {},
   "source": [
    "### Q2: How many at the end (time step 1000)?"
   ]
  },
  {
   "cell_type": "code",
   "execution_count": 10,
   "id": "05e8533d",
   "metadata": {},
   "outputs": [
    {
     "name": "stdout",
     "output_type": "stream",
     "text": [
      "         tick     p1     p2\n",
      "4971616   991      0    967\n",
      "4971617   991      0   1647\n",
      "4971618   991      0   1811\n",
      "4971619   991      0   2128\n",
      "4971620   991      0   4811\n",
      "...       ...    ...    ...\n",
      "5021833   991  10387  10590\n",
      "5021834   991  10392  10524\n",
      "5021835   991  10395  10570\n",
      "5021836   991  10396  10429\n",
      "5021837   991  10396  10591\n",
      "\n",
      "[50222 rows x 3 columns]\n"
     ]
    }
   ],
   "source": [
    "print(network_log_1_df_time_991)"
   ]
  },
  {
   "cell_type": "code",
   "execution_count": 11,
   "id": "e1524381",
   "metadata": {},
   "outputs": [
    {
     "name": "stdout",
     "output_type": "stream",
     "text": [
      "The number of people that has connections at time step 991 is 10000\n"
     ]
    }
   ],
   "source": [
    "network_log_1_df_time_991_p1 = network_log_1_df_time_991['p1'].tolist()\n",
    "network_log_1_df_time_991_p2 = network_log_1_df_time_991['p2'].tolist()\n",
    "\n",
    "print(\"The number of people that has connections at time step 991 is\",len(np.unique(network_log_1_df_time_991_p1 + network_log_1_df_time_991_p2)))"
   ]
  },
  {
   "cell_type": "code",
   "execution_count": 12,
   "id": "a9827cbf",
   "metadata": {},
   "outputs": [
    {
     "name": "stdout",
     "output_type": "stream",
     "text": [
      "unique number of cennections at time 991 is 50222\n"
     ]
    }
   ],
   "source": [
    "network_log_1_df_time_991_connections_list = []\n",
    "for i in range(network_log_1_df_time_991.shape[0]):\n",
    "    network_log_1_df_time_991_connections_list.append({network_log_1_df_time_991.iloc[i][\"p1\"], network_log_1_df_time_991.iloc[i][\"p2\"]})\n",
    "\n",
    "network_log_1_df_time_991_connections_list_res = []\n",
    "for item in network_log_1_df_time_991_connections_list: \n",
    "    if item not in network_log_1_df_time_991_connections_list_res: \n",
    "        network_log_1_df_time_991_connections_list_res.append(item) \n",
    "\n",
    "print(\"unique number of cennections at time 991 is\", len(network_log_1_df_time_991_connections_list_res))"
   ]
  },
  {
   "cell_type": "markdown",
   "id": "1de55d2f",
   "metadata": {},
   "source": [
    "### Q3: How many at some point in the middle (around 500)?"
   ]
  },
  {
   "cell_type": "code",
   "execution_count": 13,
   "id": "6bf1b8c3",
   "metadata": {},
   "outputs": [
    {
     "name": "stdout",
     "output_type": "stream",
     "text": [
      "         tick     p1     p2\n",
      "2460708   491      0    967\n",
      "2460709   491      0   1647\n",
      "2460710   491      0   1811\n",
      "2460711   491      0   2128\n",
      "2460712   491      0   4811\n",
      "...       ...    ...    ...\n",
      "2510917   491  10187  10284\n",
      "2510918   491  10194  10363\n",
      "2510919   491  10200  10245\n",
      "2510920   491  10210  10219\n",
      "2510921   491  10212  10225\n",
      "\n",
      "[50214 rows x 3 columns]\n"
     ]
    }
   ],
   "source": [
    "print(network_log_1_df_time_491)"
   ]
  },
  {
   "cell_type": "code",
   "execution_count": 14,
   "id": "89cc7cbc",
   "metadata": {},
   "outputs": [
    {
     "name": "stdout",
     "output_type": "stream",
     "text": [
      "The number of people that has connections at time step 491 is 10000\n"
     ]
    }
   ],
   "source": [
    "network_log_1_df_time_491_p1 = network_log_1_df_time_491['p1'].tolist()\n",
    "network_log_1_df_time_491_p2 = network_log_1_df_time_491['p2'].tolist()\n",
    "\n",
    "print(\"The number of people that has connections at time step 491 is\",len(np.unique(network_log_1_df_time_491_p1 + network_log_1_df_time_491_p2)))"
   ]
  },
  {
   "cell_type": "code",
   "execution_count": 15,
   "id": "a9327911",
   "metadata": {},
   "outputs": [
    {
     "name": "stdout",
     "output_type": "stream",
     "text": [
      "unique number of cennections at time 491 is 50214\n"
     ]
    }
   ],
   "source": [
    "network_log_1_df_time_491_connections_list = []\n",
    "for i in range(network_log_1_df_time_491.shape[0]):\n",
    "    network_log_1_df_time_491_connections_list.append({network_log_1_df_time_491.iloc[i][\"p1\"], network_log_1_df_time_491.iloc[i][\"p2\"]})\n",
    "\n",
    "network_log_1_df_time_491_connections_list_res = []\n",
    "for item in network_log_1_df_time_491_connections_list: \n",
    "    if item not in network_log_1_df_time_491_connections_list_res: \n",
    "        network_log_1_df_time_491_connections_list_res.append(item) \n",
    "\n",
    "print(\"unique number of cennections at time 491 is\", len(network_log_1_df_time_491_connections_list_res))"
   ]
  },
  {
   "cell_type": "markdown",
   "id": "768b62b0",
   "metadata": {},
   "source": [
    "### Q4: Of the relationships that exist in the beginning, how many exist at time step 100? How many exist at 500? At the end?"
   ]
  },
  {
   "cell_type": "code",
   "execution_count": 16,
   "id": "a85ffb06",
   "metadata": {},
   "outputs": [
    {
     "name": "stdout",
     "output_type": "stream",
     "text": [
      "unique number of cennections at time 1 is 50220\n"
     ]
    }
   ],
   "source": [
    "print(\"unique number of cennections at time 1 is\", len(network_log_1_df_time_1_connections_list_res))"
   ]
  },
  {
   "cell_type": "code",
   "execution_count": 17,
   "id": "ed9f996c",
   "metadata": {},
   "outputs": [
    {
     "name": "stdout",
     "output_type": "stream",
     "text": [
      "still exist at step 91: 50220\n"
     ]
    }
   ],
   "source": [
    "network_log_1_df_time_91_p1 = network_log_1_df_time_91['p1'].tolist()\n",
    "network_log_1_df_time_91_p2 = network_log_1_df_time_91['p2'].tolist()\n",
    "\n",
    "\n",
    "network_log_1_df_time_91_connections_list = []\n",
    "\n",
    "for i in range(network_log_1_df_time_91.shape[0]):\n",
    "    network_log_1_df_time_91_connections_list.append({network_log_1_df_time_91.iloc[i][\"p1\"], network_log_1_df_time_91.iloc[i][\"p2\"]})\n",
    "\n",
    "\n",
    "network_time_still_exist_at_91 = []\n",
    "\n",
    "for item in network_log_1_df_time_1_connections_list: \n",
    "    if item in network_log_1_df_time_91_connections_list: \n",
    "        network_time_still_exist_at_91.append(item) \n",
    "\n",
    "print(\"still exist at step 91:\", len(network_time_still_exist_at_91))"
   ]
  },
  {
   "cell_type": "code",
   "execution_count": 18,
   "id": "1a83cd28",
   "metadata": {},
   "outputs": [
    {
     "name": "stdout",
     "output_type": "stream",
     "text": [
      "still exist at step 491: 48325\n"
     ]
    }
   ],
   "source": [
    "network_time_still_exist_at_491 = []\n",
    "\n",
    "for item in network_log_1_df_time_1_connections_list: \n",
    "    if item in network_log_1_df_time_491_connections_list: \n",
    "        network_time_still_exist_at_491.append(item) \n",
    "\n",
    "print(\"still exist at step 491:\", len(network_time_still_exist_at_491))"
   ]
  },
  {
   "cell_type": "code",
   "execution_count": 19,
   "id": "b86ecc79",
   "metadata": {},
   "outputs": [
    {
     "name": "stdout",
     "output_type": "stream",
     "text": [
      "still exist at step 991: 46461\n"
     ]
    }
   ],
   "source": [
    "network_time_still_exist_at_991 = []\n",
    "\n",
    "for item in network_log_1_df_time_1_connections_list: \n",
    "    if item in network_log_1_df_time_991_connections_list: \n",
    "        network_time_still_exist_at_991.append(item) \n",
    "\n",
    "print(\"still exist at step 991:\", len(network_time_still_exist_at_991))"
   ]
  },
  {
   "cell_type": "code",
   "execution_count": null,
   "id": "fc077e49",
   "metadata": {},
   "outputs": [],
   "source": []
  },
  {
   "cell_type": "code",
   "execution_count": null,
   "id": "c6ba2215",
   "metadata": {},
   "outputs": [],
   "source": []
  },
  {
   "cell_type": "code",
   "execution_count": null,
   "id": "d92758c5",
   "metadata": {},
   "outputs": [],
   "source": []
  },
  {
   "cell_type": "code",
   "execution_count": null,
   "id": "316115c7",
   "metadata": {},
   "outputs": [],
   "source": []
  },
  {
   "cell_type": "markdown",
   "id": "aedbf9bf",
   "metadata": {},
   "source": [
    "### Q5: Compare the agent and link differences between different time sticks"
   ]
  },
  {
   "cell_type": "code",
   "execution_count": 20,
   "id": "1194fdf6",
   "metadata": {},
   "outputs": [],
   "source": [
    "def compare_agent_difference(time_a, time_b, count_links_or_not):\n",
    "    agent_log_1_df_time_a = agent_log_1_df.loc[agent_log_1_df['tick'] == time_a]\n",
    "    agent_log_1_df_time_b = agent_log_1_df.loc[agent_log_1_df['tick'] == time_b]\n",
    "    \n",
    "    agent_log_1_df_time_a_list = agent_log_1_df_time_a['agent_id'].tolist()\n",
    "    agent_log_1_df_time_b_list = agent_log_1_df_time_b['agent_id'].tolist()\n",
    "    \n",
    "    agents_in_a_but_not_in_b = []\n",
    "    agents_in_b_but_not_in_a = []\n",
    "    \n",
    "    for item in agent_log_1_df_time_a_list: \n",
    "        if item not in agent_log_1_df_time_b_list: \n",
    "            agents_in_a_but_not_in_b.append(item)\n",
    "    \n",
    "    for item in agent_log_1_df_time_b_list: \n",
    "        if item not in agent_log_1_df_time_a_list: \n",
    "            agents_in_b_but_not_in_a.append(item)\n",
    "        \n",
    "    print(\"Here are the agents in time\", time_a, \"but not in time\", time_b, agents_in_a_but_not_in_b, \"and the length is\", len(agents_in_a_but_not_in_b))\n",
    "    print(\"Here are the agents in time\", time_b, \"but not in time\", time_a, agents_in_b_but_not_in_a, \"and the length is\", len(agents_in_b_but_not_in_a))\n",
    "    \n",
    "    if count_links_or_not == True:\n",
    "        links_of_agents_in_a_but_not_in_b = []\n",
    "        links_of_agents_in_b_but_not_in_a = []\n",
    "        \n",
    "        for agent in agents_in_a_but_not_in_b:\n",
    "            links_of_agents_in_a_but_not_in_b.append([agent, len(network_log_1_df.loc[(network_log_1_df['tick'] == time_a)&((network_log_1_df['p1'] == agent) | (network_log_1_df['p2'] == agent))])])\n",
    "        \n",
    "        for agent in agents_in_b_but_not_in_a:\n",
    "            links_of_agents_in_b_but_not_in_a.append([agent, len(network_log_1_df.loc[(network_log_1_df['tick'] == time_b)&((network_log_1_df['p1'] == agent) | (network_log_1_df['p2'] == agent))])])\n",
    "        \n",
    "        print(\"Here are the agents and the number of links assigned to them in a not in b:\", links_of_agents_in_a_but_not_in_b)\n",
    "        print(\"Here are the agents and the number of links assigned to them in b not in a:\", links_of_agents_in_b_but_not_in_a)\n",
    "    \n"
   ]
  },
  {
   "cell_type": "code",
   "execution_count": 21,
   "id": "e07036f0",
   "metadata": {},
   "outputs": [
    {
     "name": "stdout",
     "output_type": "stream",
     "text": [
      "Here are the agents in time 1 but not in time 371 [67, 121, 160, 177, 223, 235, 352, 361, 396, 397, 461, 554, 560, 610, 861, 880, 930, 949, 965, 990, 1002, 1072, 1108, 1131, 1203, 1206, 1417, 1452, 1512, 1573, 1574, 1625, 1655, 1722, 1773, 1793, 1902, 1911, 1968, 2154, 2200, 2235, 2243, 2334, 2640, 2654, 2736, 2871, 2924, 3124, 3184, 3205, 3291, 3314, 3368, 3387, 3450, 3517, 3552, 3608, 3639, 3655, 3692, 3700, 3719, 3730, 3762, 3824, 3854, 3885, 3902, 3907, 3927, 3928, 4006, 4018, 4043, 4082, 4122, 4149, 4160, 4166, 4168, 4304, 4351, 4358, 4396, 4448, 4555, 4562, 4566, 4580, 4596, 4616, 4665, 4786, 4956, 4998, 5043, 5148, 5168, 5296, 5306, 5321, 5387, 5421, 5429, 5515, 5523, 5542, 5648, 5711, 5717, 5757, 5796, 5834, 5857, 5859, 6042, 6052, 6138, 6139, 6183, 6257, 6290, 6319, 6320, 6410, 6567, 6611, 6619, 6666, 6798, 6821, 6838, 6905, 6968, 7066, 7168, 7193, 7227, 7233, 7244, 7302, 7393, 7418, 7470, 7476, 7556, 7583, 7621, 7663, 7684, 7688, 7895, 7950, 7961, 7966, 8014, 8080, 8086, 8174, 8213, 8240, 8345, 8377, 8398, 8428, 8485, 8710, 8715, 8812, 8828, 8936, 9078, 9152, 9191, 9270, 9339, 9361, 9481, 9653, 9740, 9755, 9760, 9818, 9839, 9927, 9932] and the length is 189\n",
      "Here are the agents in time 371 but not in time 1 [10213, 10214, 10215, 10216, 10217, 10218, 10219, 10220, 10221, 10222, 10223, 10224, 10225, 10226, 10227, 10228, 10229, 10230, 10231, 10232, 10233, 10234, 10235, 10236, 10237, 10238, 10239, 10240, 10241, 10242, 10243, 10244, 10245, 10246, 10247, 10248, 10249, 10250, 10251, 10252, 10253, 10254, 10255, 10256, 10257, 10258, 10259, 10260, 10261, 10262, 10263, 10264, 10265, 10266, 10267, 10268, 10269, 10270, 10271, 10272, 10273, 10274, 10275, 10276, 10277, 10278, 10279, 10280, 10281, 10282, 10283, 10284, 10285, 10286, 10287, 10288, 10289, 10290, 10291, 10292, 10293, 10294, 10295, 10296, 10297, 10298, 10299, 10300, 10301, 10302, 10303, 10304, 10305, 10306, 10307, 10308, 10309, 10310, 10311, 10312, 10313, 10314, 10315, 10316, 10317, 10318, 10319, 10320, 10321, 10322, 10323, 10324, 10325, 10326, 10327, 10328, 10329, 10330, 10331, 10332, 10333, 10334, 10335, 10336, 10337, 10338, 10339, 10340, 10341, 10342, 10343, 10344, 10345, 10346, 10347, 10348, 10349, 10350, 10351, 10352, 10353, 10354, 10355, 10356, 10357, 10358, 10359, 10360, 10361, 10362, 10363, 10364, 10365, 10366, 10367, 10368, 10369, 10370, 10371, 10372, 10373, 10374, 10375, 10376, 10377, 10378, 10379, 10380, 10381, 10382, 10383, 10384, 10385, 10386, 10387, 10388, 10389, 10390, 10391, 10392, 10393, 10394, 10395, 10396, 10397, 10398, 10399, 10400, 10401] and the length is 189\n",
      "Here are the agents and the number of links assigned to them in a not in b: [[67, 13], [121, 11], [160, 10], [177, 9], [223, 12], [235, 12], [352, 11], [361, 10], [396, 7], [397, 11], [461, 3], [554, 16], [560, 14], [610, 7], [861, 9], [880, 12], [930, 8], [949, 9], [965, 5], [990, 10], [1002, 8], [1072, 9], [1108, 9], [1131, 12], [1203, 15], [1206, 12], [1417, 16], [1452, 13], [1512, 7], [1573, 9], [1574, 12], [1625, 7], [1655, 11], [1722, 5], [1773, 15], [1793, 8], [1902, 13], [1911, 11], [1968, 18], [2154, 15], [2200, 6], [2235, 15], [2243, 5], [2334, 10], [2640, 13], [2654, 7], [2736, 13], [2871, 10], [2924, 12], [3124, 8], [3184, 17], [3205, 12], [3291, 13], [3314, 12], [3368, 10], [3387, 16], [3450, 8], [3517, 13], [3552, 10], [3608, 14], [3639, 13], [3655, 9], [3692, 11], [3700, 15], [3719, 11], [3730, 6], [3762, 13], [3824, 10], [3854, 8], [3885, 8], [3902, 8], [3907, 9], [3927, 9], [3928, 10], [4006, 7], [4018, 9], [4043, 8], [4082, 5], [4122, 5], [4149, 14], [4160, 10], [4166, 13], [4168, 8], [4304, 5], [4351, 7], [4358, 10], [4396, 10], [4448, 10], [4555, 20], [4562, 8], [4566, 9], [4580, 9], [4596, 9], [4616, 7], [4665, 12], [4786, 8], [4956, 10], [4998, 9], [5043, 12], [5148, 8], [5168, 10], [5296, 12], [5306, 11], [5321, 14], [5387, 8], [5421, 14], [5429, 5], [5515, 10], [5523, 7], [5542, 11], [5648, 11], [5711, 10], [5717, 7], [5757, 9], [5796, 6], [5834, 7], [5857, 8], [5859, 17], [6042, 8], [6052, 4], [6138, 7], [6139, 7], [6183, 10], [6257, 12], [6290, 7], [6319, 14], [6320, 10], [6410, 8], [6567, 11], [6611, 9], [6619, 7], [6666, 12], [6798, 11], [6821, 10], [6838, 13], [6905, 8], [6968, 12], [7066, 11], [7168, 9], [7193, 9], [7227, 11], [7233, 11], [7244, 9], [7302, 9], [7393, 12], [7418, 13], [7470, 13], [7476, 15], [7556, 13], [7583, 14], [7621, 9], [7663, 8], [7684, 11], [7688, 10], [7895, 8], [7950, 3], [7961, 11], [7966, 8], [8014, 7], [8080, 7], [8086, 8], [8174, 13], [8213, 9], [8240, 12], [8345, 7], [8377, 11], [8398, 8], [8428, 14], [8485, 9], [8710, 13], [8715, 9], [8812, 11], [8828, 10], [8936, 7], [9078, 13], [9152, 10], [9191, 11], [9270, 15], [9339, 9], [9361, 7], [9481, 11], [9653, 12], [9740, 9], [9755, 13], [9760, 8], [9818, 13], [9839, 9], [9927, 6], [9932, 13]]\n",
      "Here are the agents and the number of links assigned to them in b not in a: [[10213, 9], [10214, 15], [10215, 6], [10216, 8], [10217, 8], [10218, 13], [10219, 9], [10220, 13], [10221, 5], [10222, 12], [10223, 8], [10224, 11], [10225, 16], [10226, 13], [10227, 10], [10228, 10], [10229, 11], [10230, 11], [10231, 15], [10232, 12], [10233, 6], [10234, 8], [10235, 5], [10236, 19], [10237, 6], [10238, 14], [10239, 5], [10240, 10], [10241, 8], [10242, 2], [10243, 7], [10244, 10], [10245, 17], [10246, 8], [10247, 12], [10248, 10], [10249, 10], [10250, 5], [10251, 8], [10252, 12], [10253, 8], [10254, 13], [10255, 11], [10256, 10], [10257, 10], [10258, 7], [10259, 12], [10260, 12], [10261, 5], [10262, 9], [10263, 13], [10264, 10], [10265, 19], [10266, 8], [10267, 7], [10268, 8], [10269, 10], [10270, 9], [10271, 10], [10272, 7], [10273, 8], [10274, 11], [10275, 9], [10276, 6], [10277, 13], [10278, 11], [10279, 6], [10280, 6], [10281, 14], [10282, 9], [10283, 11], [10284, 6], [10285, 5], [10286, 14], [10287, 14], [10288, 10], [10289, 18], [10290, 5], [10291, 11], [10292, 9], [10293, 13], [10294, 10], [10295, 16], [10296, 8], [10297, 8], [10298, 16], [10299, 6], [10300, 10], [10301, 6], [10302, 6], [10303, 12], [10304, 8], [10305, 8], [10306, 8], [10307, 9], [10308, 12], [10309, 7], [10310, 15], [10311, 12], [10312, 9], [10313, 2], [10314, 12], [10315, 4], [10316, 13], [10317, 5], [10318, 14], [10319, 5], [10320, 7], [10321, 10], [10322, 13], [10323, 9], [10324, 7], [10325, 6], [10326, 11], [10327, 11], [10328, 8], [10329, 12], [10330, 13], [10331, 11], [10332, 7], [10333, 9], [10334, 9], [10335, 16], [10336, 14], [10337, 9], [10338, 15], [10339, 5], [10340, 13], [10341, 12], [10342, 8], [10343, 13], [10344, 6], [10345, 9], [10346, 9], [10347, 14], [10348, 5], [10349, 8], [10350, 13], [10351, 11], [10352, 10], [10353, 13], [10354, 17], [10355, 14], [10356, 6], [10357, 13], [10358, 8], [10359, 12], [10360, 13], [10361, 7], [10362, 6], [10363, 8], [10364, 13], [10365, 9], [10366, 9], [10367, 12], [10368, 9], [10369, 6], [10370, 9], [10371, 12], [10372, 7], [10373, 17], [10374, 9], [10375, 10], [10376, 17], [10377, 14], [10378, 5], [10379, 9], [10380, 15], [10381, 10], [10382, 10], [10383, 7], [10384, 9], [10385, 12], [10386, 11], [10387, 14], [10388, 9], [10389, 11], [10390, 10], [10391, 9], [10392, 10], [10393, 6], [10394, 13], [10395, 13], [10396, 7], [10397, 12], [10398, 8], [10399, 15], [10400, 9], [10401, 7]]\n"
     ]
    }
   ],
   "source": [
    "compare_agent_difference(1, 371, True)"
   ]
  },
  {
   "cell_type": "code",
   "execution_count": 22,
   "id": "edb1ed5d",
   "metadata": {},
   "outputs": [
    {
     "name": "stdout",
     "output_type": "stream",
     "text": [
      "Here are the agents in time 1 but not in time 91 [] and the length is 0\n",
      "Here are the agents in time 91 but not in time 1 [] and the length is 0\n"
     ]
    }
   ],
   "source": [
    "compare_agent_difference(1, 91, False)"
   ]
  },
  {
   "cell_type": "code",
   "execution_count": 23,
   "id": "c45efb6b",
   "metadata": {},
   "outputs": [
    {
     "name": "stdout",
     "output_type": "stream",
     "text": [
      "Here are the agents in time 1 but not in time 491 [67, 121, 160, 177, 223, 235, 352, 361, 396, 397, 461, 554, 560, 610, 861, 880, 930, 949, 965, 990, 1002, 1072, 1108, 1131, 1203, 1206, 1417, 1452, 1512, 1573, 1574, 1625, 1655, 1722, 1773, 1793, 1902, 1911, 1968, 2154, 2200, 2235, 2243, 2334, 2640, 2654, 2736, 2871, 2924, 3124, 3184, 3205, 3291, 3314, 3368, 3387, 3450, 3517, 3552, 3608, 3639, 3655, 3692, 3700, 3719, 3730, 3762, 3824, 3854, 3885, 3902, 3907, 3927, 3928, 4006, 4018, 4043, 4082, 4122, 4149, 4160, 4166, 4168, 4304, 4351, 4358, 4396, 4448, 4555, 4562, 4566, 4580, 4596, 4616, 4665, 4786, 4956, 4998, 5043, 5148, 5168, 5296, 5306, 5321, 5387, 5421, 5429, 5515, 5523, 5542, 5648, 5711, 5717, 5757, 5796, 5834, 5857, 5859, 6042, 6052, 6138, 6139, 6183, 6257, 6290, 6319, 6320, 6410, 6567, 6611, 6619, 6666, 6798, 6821, 6838, 6905, 6968, 7066, 7168, 7193, 7227, 7233, 7244, 7302, 7393, 7418, 7470, 7476, 7556, 7583, 7621, 7663, 7684, 7688, 7895, 7950, 7961, 7966, 8014, 8080, 8086, 8174, 8213, 8240, 8345, 8377, 8398, 8428, 8485, 8710, 8715, 8812, 8828, 8936, 9078, 9152, 9191, 9270, 9339, 9361, 9481, 9653, 9740, 9755, 9760, 9818, 9839, 9927, 9932] and the length is 189\n",
      "Here are the agents in time 491 but not in time 1 [10213, 10214, 10215, 10216, 10217, 10218, 10219, 10220, 10221, 10222, 10223, 10224, 10225, 10226, 10227, 10228, 10229, 10230, 10231, 10232, 10233, 10234, 10235, 10236, 10237, 10238, 10239, 10240, 10241, 10242, 10243, 10244, 10245, 10246, 10247, 10248, 10249, 10250, 10251, 10252, 10253, 10254, 10255, 10256, 10257, 10258, 10259, 10260, 10261, 10262, 10263, 10264, 10265, 10266, 10267, 10268, 10269, 10270, 10271, 10272, 10273, 10274, 10275, 10276, 10277, 10278, 10279, 10280, 10281, 10282, 10283, 10284, 10285, 10286, 10287, 10288, 10289, 10290, 10291, 10292, 10293, 10294, 10295, 10296, 10297, 10298, 10299, 10300, 10301, 10302, 10303, 10304, 10305, 10306, 10307, 10308, 10309, 10310, 10311, 10312, 10313, 10314, 10315, 10316, 10317, 10318, 10319, 10320, 10321, 10322, 10323, 10324, 10325, 10326, 10327, 10328, 10329, 10330, 10331, 10332, 10333, 10334, 10335, 10336, 10337, 10338, 10339, 10340, 10341, 10342, 10343, 10344, 10345, 10346, 10347, 10348, 10349, 10350, 10351, 10352, 10353, 10354, 10355, 10356, 10357, 10358, 10359, 10360, 10361, 10362, 10363, 10364, 10365, 10366, 10367, 10368, 10369, 10370, 10371, 10372, 10373, 10374, 10375, 10376, 10377, 10378, 10379, 10380, 10381, 10382, 10383, 10384, 10385, 10386, 10387, 10388, 10389, 10390, 10391, 10392, 10393, 10394, 10395, 10396, 10397, 10398, 10399, 10400, 10401] and the length is 189\n"
     ]
    }
   ],
   "source": [
    "compare_agent_difference(1, 491, False)"
   ]
  },
  {
   "cell_type": "code",
   "execution_count": 24,
   "id": "ba35c090",
   "metadata": {},
   "outputs": [
    {
     "name": "stdout",
     "output_type": "stream",
     "text": [
      "Here are the agents in time 1 but not in time 991 [52, 67, 121, 131, 159, 160, 177, 223, 235, 352, 361, 396, 397, 461, 465, 527, 554, 560, 610, 739, 764, 793, 861, 866, 880, 894, 930, 949, 954, 964, 965, 990, 1002, 1027, 1072, 1082, 1108, 1131, 1203, 1206, 1253, 1288, 1315, 1350, 1417, 1444, 1452, 1473, 1509, 1512, 1559, 1573, 1574, 1613, 1625, 1655, 1659, 1679, 1695, 1722, 1732, 1754, 1773, 1793, 1821, 1857, 1902, 1911, 1913, 1914, 1919, 1968, 1994, 2006, 2052, 2078, 2105, 2110, 2117, 2151, 2154, 2194, 2200, 2235, 2243, 2332, 2334, 2335, 2433, 2461, 2500, 2530, 2603, 2606, 2622, 2640, 2654, 2689, 2736, 2801, 2828, 2871, 2911, 2917, 2921, 2924, 2987, 3005, 3020, 3035, 3044, 3060, 3124, 3162, 3184, 3185, 3205, 3240, 3291, 3314, 3318, 3330, 3355, 3368, 3371, 3387, 3388, 3396, 3435, 3450, 3476, 3517, 3540, 3552, 3575, 3608, 3639, 3655, 3691, 3692, 3696, 3700, 3719, 3730, 3762, 3824, 3847, 3854, 3879, 3880, 3885, 3886, 3902, 3907, 3908, 3914, 3927, 3928, 3968, 4006, 4018, 4043, 4048, 4082, 4089, 4092, 4122, 4149, 4160, 4166, 4168, 4248, 4272, 4279, 4304, 4351, 4357, 4358, 4376, 4384, 4396, 4406, 4436, 4448, 4496, 4529, 4555, 4562, 4566, 4580, 4596, 4616, 4665, 4768, 4771, 4775, 4786, 4928, 4935, 4956, 4998, 4999, 5043, 5059, 5083, 5091, 5147, 5148, 5168, 5213, 5296, 5306, 5321, 5387, 5421, 5429, 5471, 5515, 5519, 5523, 5542, 5648, 5660, 5698, 5711, 5713, 5717, 5732, 5757, 5790, 5796, 5823, 5830, 5834, 5847, 5857, 5859, 5876, 5898, 5923, 5963, 6011, 6042, 6052, 6063, 6138, 6139, 6148, 6155, 6165, 6183, 6238, 6257, 6258, 6271, 6290, 6296, 6319, 6320, 6410, 6479, 6490, 6533, 6558, 6565, 6567, 6611, 6619, 6666, 6685, 6739, 6747, 6798, 6821, 6838, 6865, 6905, 6941, 6968, 7016, 7066, 7168, 7193, 7220, 7227, 7233, 7244, 7302, 7362, 7393, 7418, 7457, 7462, 7470, 7476, 7489, 7497, 7501, 7518, 7524, 7529, 7534, 7556, 7560, 7583, 7621, 7663, 7671, 7682, 7684, 7688, 7749, 7819, 7895, 7896, 7950, 7961, 7966, 7972, 8006, 8014, 8025, 8080, 8086, 8098, 8121, 8134, 8136, 8154, 8174, 8213, 8221, 8230, 8239, 8240, 8311, 8345, 8377, 8398, 8404, 8428, 8485, 8663, 8710, 8715, 8812, 8828, 8844, 8878, 8927, 8930, 8931, 8936, 9000, 9006, 9078, 9097, 9114, 9152, 9191, 9206, 9270, 9323, 9339, 9361, 9364, 9481, 9625, 9638, 9650, 9653, 9656, 9740, 9755, 9760, 9818, 9839, 9910, 9927, 9932] and the length is 380\n",
      "Here are the agents in time 991 but not in time 1 [10213, 10214, 10215, 10216, 10217, 10218, 10219, 10220, 10221, 10222, 10223, 10224, 10225, 10226, 10227, 10228, 10229, 10230, 10231, 10232, 10233, 10234, 10235, 10236, 10237, 10238, 10239, 10240, 10241, 10242, 10243, 10244, 10245, 10246, 10247, 10248, 10249, 10250, 10251, 10252, 10253, 10254, 10255, 10256, 10257, 10258, 10259, 10260, 10261, 10262, 10263, 10264, 10265, 10266, 10267, 10268, 10269, 10270, 10271, 10272, 10273, 10274, 10275, 10276, 10277, 10278, 10279, 10280, 10281, 10282, 10283, 10284, 10285, 10286, 10287, 10288, 10289, 10290, 10291, 10292, 10293, 10294, 10295, 10296, 10297, 10298, 10299, 10300, 10301, 10302, 10303, 10304, 10305, 10306, 10307, 10308, 10309, 10310, 10311, 10312, 10313, 10314, 10315, 10316, 10317, 10318, 10319, 10320, 10321, 10322, 10323, 10324, 10325, 10326, 10327, 10328, 10329, 10330, 10331, 10332, 10333, 10334, 10335, 10336, 10337, 10338, 10339, 10340, 10341, 10342, 10343, 10344, 10345, 10346, 10347, 10348, 10349, 10350, 10351, 10352, 10353, 10354, 10355, 10356, 10357, 10358, 10359, 10360, 10361, 10362, 10363, 10364, 10365, 10366, 10367, 10368, 10369, 10370, 10371, 10372, 10373, 10374, 10375, 10376, 10377, 10378, 10379, 10380, 10381, 10382, 10383, 10384, 10385, 10386, 10387, 10388, 10389, 10390, 10391, 10392, 10393, 10394, 10395, 10396, 10397, 10398, 10399, 10400, 10401, 10402, 10403, 10404, 10405, 10406, 10407, 10408, 10409, 10410, 10411, 10412, 10413, 10414, 10415, 10416, 10417, 10418, 10419, 10420, 10421, 10422, 10423, 10424, 10425, 10426, 10427, 10428, 10429, 10430, 10431, 10432, 10433, 10434, 10435, 10436, 10437, 10438, 10439, 10440, 10441, 10442, 10443, 10444, 10445, 10446, 10447, 10448, 10449, 10450, 10451, 10452, 10453, 10454, 10455, 10456, 10457, 10458, 10459, 10460, 10461, 10462, 10463, 10464, 10465, 10466, 10467, 10468, 10469, 10470, 10471, 10472, 10473, 10474, 10475, 10476, 10477, 10478, 10479, 10480, 10481, 10482, 10483, 10484, 10485, 10486, 10487, 10488, 10489, 10490, 10491, 10492, 10493, 10494, 10495, 10496, 10497, 10498, 10499, 10500, 10501, 10502, 10503, 10504, 10505, 10506, 10507, 10508, 10509, 10510, 10511, 10512, 10513, 10514, 10515, 10516, 10517, 10518, 10519, 10520, 10521, 10522, 10523, 10524, 10525, 10526, 10527, 10528, 10529, 10530, 10531, 10532, 10533, 10534, 10535, 10536, 10537, 10538, 10539, 10540, 10541, 10542, 10543, 10544, 10545, 10546, 10547, 10548, 10549, 10550, 10551, 10552, 10553, 10554, 10555, 10556, 10557, 10558, 10559, 10560, 10561, 10562, 10563, 10564, 10565, 10566, 10567, 10568, 10569, 10570, 10571, 10572, 10573, 10574, 10575, 10576, 10577, 10578, 10579, 10580, 10581, 10582, 10583, 10584, 10585, 10586, 10587, 10588, 10589, 10590, 10591, 10592] and the length is 380\n"
     ]
    }
   ],
   "source": [
    "compare_agent_difference(1, 991, False)"
   ]
  },
  {
   "cell_type": "code",
   "execution_count": 25,
   "id": "007f2cb0",
   "metadata": {},
   "outputs": [
    {
     "name": "stdout",
     "output_type": "stream",
     "text": [
      "Here are the agents in time 491 but not in time 991 [52, 131, 159, 465, 527, 739, 764, 793, 866, 894, 954, 964, 1027, 1082, 1253, 1288, 1315, 1350, 1444, 1473, 1509, 1559, 1613, 1659, 1679, 1695, 1732, 1754, 1821, 1857, 1913, 1914, 1919, 1994, 2006, 2052, 2078, 2105, 2110, 2117, 2151, 2194, 2332, 2335, 2433, 2461, 2500, 2530, 2603, 2606, 2622, 2689, 2801, 2828, 2911, 2917, 2921, 2987, 3005, 3020, 3035, 3044, 3060, 3162, 3185, 3240, 3318, 3330, 3355, 3371, 3388, 3396, 3435, 3476, 3540, 3575, 3691, 3696, 3847, 3879, 3880, 3886, 3908, 3914, 3968, 4048, 4089, 4092, 4248, 4272, 4279, 4357, 4376, 4384, 4406, 4436, 4496, 4529, 4768, 4771, 4775, 4928, 4935, 4999, 5059, 5083, 5091, 5147, 5213, 5471, 5519, 5660, 5698, 5713, 5732, 5790, 5823, 5830, 5847, 5876, 5898, 5923, 5963, 6011, 6063, 6148, 6155, 6165, 6238, 6258, 6271, 6296, 6479, 6490, 6533, 6558, 6565, 6685, 6739, 6747, 6865, 6941, 7016, 7220, 7362, 7457, 7462, 7489, 7497, 7501, 7518, 7524, 7529, 7534, 7560, 7671, 7682, 7749, 7819, 7896, 7972, 8006, 8025, 8098, 8121, 8134, 8136, 8154, 8221, 8230, 8239, 8311, 8404, 8663, 8844, 8878, 8927, 8930, 8931, 9000, 9006, 9097, 9114, 9206, 9323, 9364, 9625, 9638, 9650, 9656, 9910] and the length is 191\n",
      "Here are the agents in time 991 but not in time 491 [10402, 10403, 10404, 10405, 10406, 10407, 10408, 10409, 10410, 10411, 10412, 10413, 10414, 10415, 10416, 10417, 10418, 10419, 10420, 10421, 10422, 10423, 10424, 10425, 10426, 10427, 10428, 10429, 10430, 10431, 10432, 10433, 10434, 10435, 10436, 10437, 10438, 10439, 10440, 10441, 10442, 10443, 10444, 10445, 10446, 10447, 10448, 10449, 10450, 10451, 10452, 10453, 10454, 10455, 10456, 10457, 10458, 10459, 10460, 10461, 10462, 10463, 10464, 10465, 10466, 10467, 10468, 10469, 10470, 10471, 10472, 10473, 10474, 10475, 10476, 10477, 10478, 10479, 10480, 10481, 10482, 10483, 10484, 10485, 10486, 10487, 10488, 10489, 10490, 10491, 10492, 10493, 10494, 10495, 10496, 10497, 10498, 10499, 10500, 10501, 10502, 10503, 10504, 10505, 10506, 10507, 10508, 10509, 10510, 10511, 10512, 10513, 10514, 10515, 10516, 10517, 10518, 10519, 10520, 10521, 10522, 10523, 10524, 10525, 10526, 10527, 10528, 10529, 10530, 10531, 10532, 10533, 10534, 10535, 10536, 10537, 10538, 10539, 10540, 10541, 10542, 10543, 10544, 10545, 10546, 10547, 10548, 10549, 10550, 10551, 10552, 10553, 10554, 10555, 10556, 10557, 10558, 10559, 10560, 10561, 10562, 10563, 10564, 10565, 10566, 10567, 10568, 10569, 10570, 10571, 10572, 10573, 10574, 10575, 10576, 10577, 10578, 10579, 10580, 10581, 10582, 10583, 10584, 10585, 10586, 10587, 10588, 10589, 10590, 10591, 10592] and the length is 191\n"
     ]
    }
   ],
   "source": [
    "compare_agent_difference(491, 991, False)"
   ]
  },
  {
   "cell_type": "code",
   "execution_count": 26,
   "id": "831a1b32",
   "metadata": {},
   "outputs": [
    {
     "name": "stdout",
     "output_type": "stream",
     "text": [
      "Empty DataFrame\n",
      "Columns: [tick, p1, p2]\n",
      "Index: []\n",
      "Empty DataFrame\n",
      "Columns: [tick, agent_id, agent_age, agent_race, agent_female, agent_alc_use_status, agent_smoking_status, agent_last_incarceration_tick, agent_last_release_tick, agent_current_incarceration_status, agent_entry_at_tick, agent_exit_at_tick]\n",
      "Index: []\n"
     ]
    }
   ],
   "source": [
    "# Now we want to make sure that if time 0 exists\n",
    "print(network_log_1_df_time_0)\n",
    "print(agent_log_1_df_time_0)\n",
    "\n",
    "#Nope, time 0 does not exist"
   ]
  },
  {
   "cell_type": "markdown",
   "id": "2ace73e1",
   "metadata": {},
   "source": [
    "# Analyze the agent_log part"
   ]
  },
  {
   "cell_type": "markdown",
   "id": "1083c84f",
   "metadata": {},
   "source": [
    "### Q6: Visualize the networks: beginning, middle, end. Create different versions of this network structure, where nodes are highlighted by age, race, sex, incarceration status, etc etc. \n"
   ]
  },
  {
   "cell_type": "code",
   "execution_count": 27,
   "id": "33946e81",
   "metadata": {},
   "outputs": [
    {
     "name": "stdout",
     "output_type": "stream",
     "text": [
      "      tick  agent_id  agent_age agent_race  agent_female  \\\n",
      "0        1         0         21      White             1   \n",
      "1        1         1         46      Asian             1   \n",
      "2        1         2         18   Hispanic             0   \n",
      "3        1         3         58   Hispanic             0   \n",
      "4        1         4         58      White             1   \n",
      "...    ...       ...        ...        ...           ...   \n",
      "9995     1     10208         18      White             0   \n",
      "9996     1     10209         18      White             1   \n",
      "9997     1     10210         18      White             0   \n",
      "9998     1     10211         18      Black             0   \n",
      "9999     1     10212         18      White             0   \n",
      "\n",
      "      agent_alc_use_status agent_smoking_status  \\\n",
      "0                        1                Never   \n",
      "1                        1                Never   \n",
      "2                        3              Current   \n",
      "3                        1              Current   \n",
      "4                        1               Former   \n",
      "...                    ...                  ...   \n",
      "9995                     2               Former   \n",
      "9996                     0                Never   \n",
      "9997                     1                Never   \n",
      "9998                     2               Former   \n",
      "9999                     1                Never   \n",
      "\n",
      "      agent_last_incarceration_tick  agent_last_release_tick  \\\n",
      "0                                -1                       -1   \n",
      "1                                -1                       -1   \n",
      "2                                -1                       -1   \n",
      "3                                -1                       -1   \n",
      "4                                -1                       -1   \n",
      "...                             ...                      ...   \n",
      "9995                             -1                       -1   \n",
      "9996                             -1                       -1   \n",
      "9997                             -1                       -1   \n",
      "9998                             -1                       -1   \n",
      "9999                             -1                       -1   \n",
      "\n",
      "      agent_current_incarceration_status  agent_entry_at_tick  \\\n",
      "0                                      0                   -1   \n",
      "1                                      0                   -1   \n",
      "2                                      0                   -1   \n",
      "3                                      0                   -1   \n",
      "4                                      0                   -1   \n",
      "...                                  ...                  ...   \n",
      "9995                                   0                    1   \n",
      "9996                                   0                    1   \n",
      "9997                                   0                    1   \n",
      "9998                                   0                    1   \n",
      "9999                                   0                    1   \n",
      "\n",
      "      agent_exit_at_tick  \n",
      "0                     -1  \n",
      "1                     -1  \n",
      "2                     -1  \n",
      "3                     -1  \n",
      "4                     -1  \n",
      "...                  ...  \n",
      "9995                  -1  \n",
      "9996                  -1  \n",
      "9997                  -1  \n",
      "9998                  -1  \n",
      "9999                  -1  \n",
      "\n",
      "[10000 rows x 12 columns]\n"
     ]
    }
   ],
   "source": [
    "print(agent_log_1_df_time_1)"
   ]
  },
  {
   "cell_type": "code",
   "execution_count": 28,
   "id": "24ef9b81",
   "metadata": {},
   "outputs": [
    {
     "ename": "KeyboardInterrupt",
     "evalue": "",
     "output_type": "error",
     "traceback": [
      "\u001b[0;31m---------------------------------------------------------------------------\u001b[0m",
      "\u001b[0;31mKeyboardInterrupt\u001b[0m                         Traceback (most recent call last)",
      "Input \u001b[0;32mIn [28]\u001b[0m, in \u001b[0;36m<cell line: 20>\u001b[0;34m()\u001b[0m\n\u001b[1;32m     15\u001b[0m cmap \u001b[38;5;241m=\u001b[39m matplotlib\u001b[38;5;241m.\u001b[39mcolors\u001b[38;5;241m.\u001b[39mListedColormap([\u001b[38;5;124m'\u001b[39m\u001b[38;5;124myellow\u001b[39m\u001b[38;5;124m'\u001b[39m, \u001b[38;5;124m'\u001b[39m\u001b[38;5;124mblue\u001b[39m\u001b[38;5;124m'\u001b[39m, \u001b[38;5;124m'\u001b[39m\u001b[38;5;124mgreen\u001b[39m\u001b[38;5;124m'\u001b[39m, \u001b[38;5;124m'\u001b[39m\u001b[38;5;124mred\u001b[39m\u001b[38;5;124m'\u001b[39m, \u001b[38;5;124m'\u001b[39m\u001b[38;5;124mpurple\u001b[39m\u001b[38;5;124m'\u001b[39m])\n\u001b[1;32m     18\u001b[0m \u001b[38;5;66;03m# Black:blue, white:red, asian:green, Hispanic:green, Asian:yellow, NaN:purple\u001b[39;00m\n\u001b[1;32m     19\u001b[0m \u001b[38;5;66;03m# Draw graph\u001b[39;00m\n\u001b[0;32m---> 20\u001b[0m \u001b[43mnx\u001b[49m\u001b[38;5;241;43m.\u001b[39;49m\u001b[43mdraw\u001b[49m\u001b[43m(\u001b[49m\u001b[43mG\u001b[49m\u001b[43m,\u001b[49m\u001b[43m \u001b[49m\u001b[43mwith_labels\u001b[49m\u001b[38;5;241;43m=\u001b[39;49m\u001b[38;5;28;43;01mFalse\u001b[39;49;00m\u001b[43m,\u001b[49m\u001b[43m \u001b[49m\u001b[43mnode_color\u001b[49m\u001b[38;5;241;43m=\u001b[39;49m\u001b[43magent_log_1_df_time_1\u001b[49m\u001b[43m[\u001b[49m\u001b[38;5;124;43m'\u001b[39;49m\u001b[38;5;124;43magent_race\u001b[39;49m\u001b[38;5;124;43m'\u001b[39;49m\u001b[43m]\u001b[49m\u001b[38;5;241;43m.\u001b[39;49m\u001b[43mcat\u001b[49m\u001b[38;5;241;43m.\u001b[39;49m\u001b[43mcodes\u001b[49m\u001b[43m,\u001b[49m\u001b[43m \u001b[49m\u001b[43mcmap\u001b[49m\u001b[38;5;241;43m=\u001b[39;49m\u001b[43mcmap\u001b[49m\u001b[43m)\u001b[49m\n",
      "File \u001b[0;32m~/.local/lib/python3.9/site-packages/networkx/drawing/nx_pylab.py:120\u001b[0m, in \u001b[0;36mdraw\u001b[0;34m(G, pos, ax, **kwds)\u001b[0m\n\u001b[1;32m    117\u001b[0m \u001b[38;5;28;01mif\u001b[39;00m \u001b[38;5;124m\"\u001b[39m\u001b[38;5;124mwith_labels\u001b[39m\u001b[38;5;124m\"\u001b[39m \u001b[38;5;129;01mnot\u001b[39;00m \u001b[38;5;129;01min\u001b[39;00m kwds:\n\u001b[1;32m    118\u001b[0m     kwds[\u001b[38;5;124m\"\u001b[39m\u001b[38;5;124mwith_labels\u001b[39m\u001b[38;5;124m\"\u001b[39m] \u001b[38;5;241m=\u001b[39m \u001b[38;5;124m\"\u001b[39m\u001b[38;5;124mlabels\u001b[39m\u001b[38;5;124m\"\u001b[39m \u001b[38;5;129;01min\u001b[39;00m kwds\n\u001b[0;32m--> 120\u001b[0m \u001b[43mdraw_networkx\u001b[49m\u001b[43m(\u001b[49m\u001b[43mG\u001b[49m\u001b[43m,\u001b[49m\u001b[43m \u001b[49m\u001b[43mpos\u001b[49m\u001b[38;5;241;43m=\u001b[39;49m\u001b[43mpos\u001b[49m\u001b[43m,\u001b[49m\u001b[43m \u001b[49m\u001b[43max\u001b[49m\u001b[38;5;241;43m=\u001b[39;49m\u001b[43max\u001b[49m\u001b[43m,\u001b[49m\u001b[43m \u001b[49m\u001b[38;5;241;43m*\u001b[39;49m\u001b[38;5;241;43m*\u001b[39;49m\u001b[43mkwds\u001b[49m\u001b[43m)\u001b[49m\n\u001b[1;32m    121\u001b[0m ax\u001b[38;5;241m.\u001b[39mset_axis_off()\n\u001b[1;32m    122\u001b[0m plt\u001b[38;5;241m.\u001b[39mdraw_if_interactive()\n",
      "File \u001b[0;32m~/.local/lib/python3.9/site-packages/networkx/drawing/nx_pylab.py:333\u001b[0m, in \u001b[0;36mdraw_networkx\u001b[0;34m(G, pos, arrows, with_labels, **kwds)\u001b[0m\n\u001b[1;32m    330\u001b[0m label_kwds \u001b[38;5;241m=\u001b[39m {k: v \u001b[38;5;28;01mfor\u001b[39;00m k, v \u001b[38;5;129;01min\u001b[39;00m kwds\u001b[38;5;241m.\u001b[39mitems() \u001b[38;5;28;01mif\u001b[39;00m k \u001b[38;5;129;01min\u001b[39;00m valid_label_kwds}\n\u001b[1;32m    332\u001b[0m \u001b[38;5;28;01mif\u001b[39;00m pos \u001b[38;5;129;01mis\u001b[39;00m \u001b[38;5;28;01mNone\u001b[39;00m:\n\u001b[0;32m--> 333\u001b[0m     pos \u001b[38;5;241m=\u001b[39m \u001b[43mnx\u001b[49m\u001b[38;5;241;43m.\u001b[39;49m\u001b[43mdrawing\u001b[49m\u001b[38;5;241;43m.\u001b[39;49m\u001b[43mspring_layout\u001b[49m\u001b[43m(\u001b[49m\u001b[43mG\u001b[49m\u001b[43m)\u001b[49m  \u001b[38;5;66;03m# default to spring layout\u001b[39;00m\n\u001b[1;32m    335\u001b[0m draw_networkx_nodes(G, pos, \u001b[38;5;241m*\u001b[39m\u001b[38;5;241m*\u001b[39mnode_kwds)\n\u001b[1;32m    336\u001b[0m draw_networkx_edges(G, pos, arrows\u001b[38;5;241m=\u001b[39marrows, \u001b[38;5;241m*\u001b[39m\u001b[38;5;241m*\u001b[39medge_kwds)\n",
      "File \u001b[0;32m~/.local/lib/python3.9/site-packages/networkx/utils/decorators.py:843\u001b[0m, in \u001b[0;36margmap.__call__.<locals>.func\u001b[0;34m(_argmap__wrapper, *args, **kwargs)\u001b[0m\n\u001b[1;32m    842\u001b[0m \u001b[38;5;28;01mdef\u001b[39;00m \u001b[38;5;21mfunc\u001b[39m(\u001b[38;5;241m*\u001b[39margs, __wrapper\u001b[38;5;241m=\u001b[39m\u001b[38;5;28;01mNone\u001b[39;00m, \u001b[38;5;241m*\u001b[39m\u001b[38;5;241m*\u001b[39mkwargs):\n\u001b[0;32m--> 843\u001b[0m     \u001b[38;5;28;01mreturn\u001b[39;00m \u001b[43margmap\u001b[49m\u001b[38;5;241;43m.\u001b[39;49m\u001b[43m_lazy_compile\u001b[49m\u001b[43m(\u001b[49m\u001b[43m__wrapper\u001b[49m\u001b[43m)\u001b[49m\u001b[43m(\u001b[49m\u001b[38;5;241;43m*\u001b[39;49m\u001b[43margs\u001b[49m\u001b[43m,\u001b[49m\u001b[43m \u001b[49m\u001b[38;5;241;43m*\u001b[39;49m\u001b[38;5;241;43m*\u001b[39;49m\u001b[43mkwargs\u001b[49m\u001b[43m)\u001b[49m\n",
      "File \u001b[0;32m<class 'networkx.utils.decorators.argmap'> compilation 8:4\u001b[0m, in \u001b[0;36margmap_spring_layout_5\u001b[0;34m(G, k, pos, fixed, iterations, threshold, weight, scale, center, dim, seed)\u001b[0m\n\u001b[1;32m      2\u001b[0m \u001b[38;5;28;01mfrom\u001b[39;00m \u001b[38;5;21;01mos\u001b[39;00m\u001b[38;5;21;01m.\u001b[39;00m\u001b[38;5;21;01mpath\u001b[39;00m \u001b[38;5;28;01mimport\u001b[39;00m splitext\n\u001b[1;32m      3\u001b[0m \u001b[38;5;28;01mfrom\u001b[39;00m \u001b[38;5;21;01mcontextlib\u001b[39;00m \u001b[38;5;28;01mimport\u001b[39;00m contextmanager\n\u001b[0;32m----> 4\u001b[0m \u001b[38;5;28;01mfrom\u001b[39;00m \u001b[38;5;21;01mpathlib\u001b[39;00m \u001b[38;5;28;01mimport\u001b[39;00m Path\n\u001b[1;32m      6\u001b[0m \u001b[38;5;28;01mimport\u001b[39;00m \u001b[38;5;21;01mnetworkx\u001b[39;00m \u001b[38;5;28;01mas\u001b[39;00m \u001b[38;5;21;01mnx\u001b[39;00m\n\u001b[1;32m      7\u001b[0m \u001b[38;5;28;01mfrom\u001b[39;00m \u001b[38;5;21;01mnetworkx\u001b[39;00m\u001b[38;5;21;01m.\u001b[39;00m\u001b[38;5;21;01mutils\u001b[39;00m \u001b[38;5;28;01mimport\u001b[39;00m create_random_state, create_py_random_state\n",
      "File \u001b[0;32m~/.local/lib/python3.9/site-packages/networkx/drawing/layout.py:481\u001b[0m, in \u001b[0;36mspring_layout\u001b[0;34m(G, k, pos, fixed, iterations, threshold, weight, scale, center, dim, seed)\u001b[0m\n\u001b[1;32m    479\u001b[0m         nnodes, _ \u001b[38;5;241m=\u001b[39m A\u001b[38;5;241m.\u001b[39mshape\n\u001b[1;32m    480\u001b[0m         k \u001b[38;5;241m=\u001b[39m dom_size \u001b[38;5;241m/\u001b[39m np\u001b[38;5;241m.\u001b[39msqrt(nnodes)\n\u001b[0;32m--> 481\u001b[0m     pos \u001b[38;5;241m=\u001b[39m \u001b[43m_sparse_fruchterman_reingold\u001b[49m\u001b[43m(\u001b[49m\n\u001b[1;32m    482\u001b[0m \u001b[43m        \u001b[49m\u001b[43mA\u001b[49m\u001b[43m,\u001b[49m\u001b[43m \u001b[49m\u001b[43mk\u001b[49m\u001b[43m,\u001b[49m\u001b[43m \u001b[49m\u001b[43mpos_arr\u001b[49m\u001b[43m,\u001b[49m\u001b[43m \u001b[49m\u001b[43mfixed\u001b[49m\u001b[43m,\u001b[49m\u001b[43m \u001b[49m\u001b[43miterations\u001b[49m\u001b[43m,\u001b[49m\u001b[43m \u001b[49m\u001b[43mthreshold\u001b[49m\u001b[43m,\u001b[49m\u001b[43m \u001b[49m\u001b[43mdim\u001b[49m\u001b[43m,\u001b[49m\u001b[43m \u001b[49m\u001b[43mseed\u001b[49m\n\u001b[1;32m    483\u001b[0m \u001b[43m    \u001b[49m\u001b[43m)\u001b[49m\n\u001b[1;32m    484\u001b[0m \u001b[38;5;28;01mexcept\u001b[39;00m \u001b[38;5;167;01mValueError\u001b[39;00m:\n\u001b[1;32m    485\u001b[0m     A \u001b[38;5;241m=\u001b[39m nx\u001b[38;5;241m.\u001b[39mto_numpy_array(G, weight\u001b[38;5;241m=\u001b[39mweight)\n",
      "File \u001b[0;32m~/.local/lib/python3.9/site-packages/networkx/utils/decorators.py:843\u001b[0m, in \u001b[0;36margmap.__call__.<locals>.func\u001b[0;34m(_argmap__wrapper, *args, **kwargs)\u001b[0m\n\u001b[1;32m    842\u001b[0m \u001b[38;5;28;01mdef\u001b[39;00m \u001b[38;5;21mfunc\u001b[39m(\u001b[38;5;241m*\u001b[39margs, __wrapper\u001b[38;5;241m=\u001b[39m\u001b[38;5;28;01mNone\u001b[39;00m, \u001b[38;5;241m*\u001b[39m\u001b[38;5;241m*\u001b[39mkwargs):\n\u001b[0;32m--> 843\u001b[0m     \u001b[38;5;28;01mreturn\u001b[39;00m \u001b[43margmap\u001b[49m\u001b[38;5;241;43m.\u001b[39;49m\u001b[43m_lazy_compile\u001b[49m\u001b[43m(\u001b[49m\u001b[43m__wrapper\u001b[49m\u001b[43m)\u001b[49m\u001b[43m(\u001b[49m\u001b[38;5;241;43m*\u001b[39;49m\u001b[43margs\u001b[49m\u001b[43m,\u001b[49m\u001b[43m \u001b[49m\u001b[38;5;241;43m*\u001b[39;49m\u001b[38;5;241;43m*\u001b[39;49m\u001b[43mkwargs\u001b[49m\u001b[43m)\u001b[49m\n",
      "File \u001b[0;32m<class 'networkx.utils.decorators.argmap'> compilation 12:4\u001b[0m, in \u001b[0;36margmap__sparse_fruchterman_reingold_9\u001b[0;34m(A, k, pos, fixed, iterations, threshold, dim, seed)\u001b[0m\n\u001b[1;32m      2\u001b[0m \u001b[38;5;28;01mfrom\u001b[39;00m \u001b[38;5;21;01mos\u001b[39;00m\u001b[38;5;21;01m.\u001b[39;00m\u001b[38;5;21;01mpath\u001b[39;00m \u001b[38;5;28;01mimport\u001b[39;00m splitext\n\u001b[1;32m      3\u001b[0m \u001b[38;5;28;01mfrom\u001b[39;00m \u001b[38;5;21;01mcontextlib\u001b[39;00m \u001b[38;5;28;01mimport\u001b[39;00m contextmanager\n\u001b[0;32m----> 4\u001b[0m \u001b[38;5;28;01mfrom\u001b[39;00m \u001b[38;5;21;01mpathlib\u001b[39;00m \u001b[38;5;28;01mimport\u001b[39;00m Path\n\u001b[1;32m      6\u001b[0m \u001b[38;5;28;01mimport\u001b[39;00m \u001b[38;5;21;01mnetworkx\u001b[39;00m \u001b[38;5;28;01mas\u001b[39;00m \u001b[38;5;21;01mnx\u001b[39;00m\n\u001b[1;32m      7\u001b[0m \u001b[38;5;28;01mfrom\u001b[39;00m \u001b[38;5;21;01mnetworkx\u001b[39;00m\u001b[38;5;21;01m.\u001b[39;00m\u001b[38;5;21;01mutils\u001b[39;00m \u001b[38;5;28;01mimport\u001b[39;00m create_random_state, create_py_random_state\n",
      "File \u001b[0;32m~/.local/lib/python3.9/site-packages/networkx/drawing/layout.py:617\u001b[0m, in \u001b[0;36m_sparse_fruchterman_reingold\u001b[0;34m(A, k, pos, fixed, iterations, threshold, dim, seed)\u001b[0m\n\u001b[1;32m    615\u001b[0m delta \u001b[38;5;241m=\u001b[39m (pos[i] \u001b[38;5;241m-\u001b[39m pos)\u001b[38;5;241m.\u001b[39mT\n\u001b[1;32m    616\u001b[0m \u001b[38;5;66;03m# distance between points\u001b[39;00m\n\u001b[0;32m--> 617\u001b[0m distance \u001b[38;5;241m=\u001b[39m np\u001b[38;5;241m.\u001b[39msqrt(\u001b[43m(\u001b[49m\u001b[43mdelta\u001b[49m\u001b[38;5;241;43m*\u001b[39;49m\u001b[38;5;241;43m*\u001b[39;49m\u001b[38;5;241;43m2\u001b[39;49m\u001b[43m)\u001b[49m\u001b[38;5;241;43m.\u001b[39;49m\u001b[43msum\u001b[49m\u001b[43m(\u001b[49m\u001b[43maxis\u001b[49m\u001b[38;5;241;43m=\u001b[39;49m\u001b[38;5;241;43m0\u001b[39;49m\u001b[43m)\u001b[49m)\n\u001b[1;32m    618\u001b[0m \u001b[38;5;66;03m# enforce minimum distance of 0.01\u001b[39;00m\n\u001b[1;32m    619\u001b[0m distance \u001b[38;5;241m=\u001b[39m np\u001b[38;5;241m.\u001b[39mwhere(distance \u001b[38;5;241m<\u001b[39m \u001b[38;5;241m0.01\u001b[39m, \u001b[38;5;241m0.01\u001b[39m, distance)\n",
      "File \u001b[0;32m~/.local/lib/python3.9/site-packages/numpy/core/_methods.py:48\u001b[0m, in \u001b[0;36m_sum\u001b[0;34m(a, axis, dtype, out, keepdims, initial, where)\u001b[0m\n\u001b[1;32m     46\u001b[0m \u001b[38;5;28;01mdef\u001b[39;00m \u001b[38;5;21m_sum\u001b[39m(a, axis\u001b[38;5;241m=\u001b[39m\u001b[38;5;28;01mNone\u001b[39;00m, dtype\u001b[38;5;241m=\u001b[39m\u001b[38;5;28;01mNone\u001b[39;00m, out\u001b[38;5;241m=\u001b[39m\u001b[38;5;28;01mNone\u001b[39;00m, keepdims\u001b[38;5;241m=\u001b[39m\u001b[38;5;28;01mFalse\u001b[39;00m,\n\u001b[1;32m     47\u001b[0m          initial\u001b[38;5;241m=\u001b[39m_NoValue, where\u001b[38;5;241m=\u001b[39m\u001b[38;5;28;01mTrue\u001b[39;00m):\n\u001b[0;32m---> 48\u001b[0m     \u001b[38;5;28;01mreturn\u001b[39;00m \u001b[43mumr_sum\u001b[49m\u001b[43m(\u001b[49m\u001b[43ma\u001b[49m\u001b[43m,\u001b[49m\u001b[43m \u001b[49m\u001b[43maxis\u001b[49m\u001b[43m,\u001b[49m\u001b[43m \u001b[49m\u001b[43mdtype\u001b[49m\u001b[43m,\u001b[49m\u001b[43m \u001b[49m\u001b[43mout\u001b[49m\u001b[43m,\u001b[49m\u001b[43m \u001b[49m\u001b[43mkeepdims\u001b[49m\u001b[43m,\u001b[49m\u001b[43m \u001b[49m\u001b[43minitial\u001b[49m\u001b[43m,\u001b[49m\u001b[43m \u001b[49m\u001b[43mwhere\u001b[49m\u001b[43m)\u001b[49m\n",
      "\u001b[0;31mKeyboardInterrupt\u001b[0m: "
     ]
    },
    {
     "data": {
      "image/png": "[encoded data removed]",
      "text/plain": [
       "<Figure size 1440x1080 with 1 Axes>"
      ]
     },
     "metadata": {},
     "output_type": "display_data"
    }
   ],
   "source": [
    "agent_log_1_df_time_1 = agent_log_1_df.loc[agent_log_1_df['tick'] == 1]\n",
    "# Create graph object\n",
    "fig, ax = plt.subplots(figsize=(20, 15))\n",
    "\n",
    "G = nx.from_pandas_edgelist(network_log_1_df_time_1, 'p1', 'p2', create_using=nx.Graph())\n",
    "\n",
    "# Make types into categories\n",
    "agent_log_1_df_time_1 = agent_log_1_df_time_1.set_index('agent_id')\n",
    "agent_log_1_df_time_1 = agent_log_1_df_time_1.reindex(G.nodes())\n",
    "\n",
    "agent_log_1_df_time_1['agent_race'] = pd.Categorical(agent_log_1_df_time_1['agent_race'])\n",
    "agent_log_1_df_time_1['agent_race'].cat.codes\n",
    "\n",
    "# Specify colors\n",
    "cmap = matplotlib.colors.ListedColormap(['yellow', 'blue', 'green', 'red', 'purple'])\n",
    "\n",
    "\n",
    "# Black:blue, white:red, asian:green, Hispanic:green, Asian:yellow, NaN:purple\n",
    "# Draw graph\n",
    "nx.draw(G, with_labels=False, node_color=agent_log_1_df_time_1['agent_race'].cat.codes, cmap=cmap)"
   ]
  },
  {
   "cell_type": "code",
   "execution_count": null,
   "id": "84e09720",
   "metadata": {},
   "outputs": [],
   "source": [
    "agent_log_1_df_time_1 = agent_log_1_df.loc[agent_log_1_df['tick'] == 1]\n",
    "# Create graph object\n",
    "fig, ax = plt.subplots(figsize=(20, 15))\n",
    "\n",
    "G = nx.from_pandas_edgelist(network_log_1_df_time_1, 'p1', 'p2', create_using=nx.Graph())\n",
    "\n",
    "# Make types into categories\n",
    "agent_log_1_df_time_1 = agent_log_1_df_time_1.set_index('agent_id')\n",
    "agent_log_1_df_time_1 = agent_log_1_df_time_1.reindex(G.nodes())\n",
    "\n",
    "agent_log_1_df_time_1['agent_race'] = pd.Categorical(agent_log_1_df_time_1['agent_race'])\n",
    "agent_log_1_df_time_1['agent_race'].cat.codes\n",
    "\n",
    "# Specify colors\n",
    "cmap = matplotlib.colors.ListedColormap(['yellow', 'blue', 'green', 'red', 'purple'])\n"
   ]
  },
  {
   "cell_type": "code",
   "execution_count": 29,
   "id": "a7e80066",
   "metadata": {},
   "outputs": [
    {
     "name": "stdout",
     "output_type": "stream",
     "text": [
      "agent_id\n",
      "0       3\n",
      "967     2\n",
      "1647    3\n",
      "1811    3\n",
      "2128    3\n",
      "       ..\n",
      "9693    3\n",
      "8749    3\n",
      "8542    3\n",
      "9385    1\n",
      "9142    3\n",
      "Length: 10000, dtype: int8\n"
     ]
    }
   ],
   "source": [
    "print(agent_log_1_df_time_1['agent_race'].cat.codes)"
   ]
  },
  {
   "cell_type": "code",
   "execution_count": null,
   "id": "7ec8cdd9",
   "metadata": {},
   "outputs": [],
   "source": [
    "from notebook.services.config import ConfigManager\n",
    "cm = ConfigManager().update('notebook', {'limit_output': 1000})\n",
    "\n",
    "k=agent_log_1_df_time_1['agent_race'].cat.codes\n",
    "print(k)"
   ]
  },
  {
   "cell_type": "code",
   "execution_count": null,
   "id": "821cb4ab",
   "metadata": {},
   "outputs": [],
   "source": []
  },
  {
   "cell_type": "code",
   "execution_count": 30,
   "id": "012da203",
   "metadata": {},
   "outputs": [
    {
     "name": "stdout",
     "output_type": "stream",
     "text": [
      "['White', 'Hispanic', 'Asian', 'Black']\n",
      "Categories (4, object): ['Asian', 'Black', 'Hispanic', 'White']\n",
      "0\n"
     ]
    }
   ],
   "source": [
    "print(agent_log_1_df_time_1['agent_race'].unique())\n",
    "print(agent_log_1_df_time_1['agent_race'].isnull().sum())"
   ]
  },
  {
   "cell_type": "code",
   "execution_count": null,
   "id": "6944e76d",
   "metadata": {},
   "outputs": [],
   "source": []
  }
 ],
 "metadata": {
  "kernelspec": {
   "display_name": "Python 3 (ipykernel)",
   "language": "python",
   "name": "python3"
  },
  "language_info": {
   "codemirror_mode": {
    "name": "ipython",
    "version": 3
   },
   "file_extension": ".py",
   "mimetype": "text/x-python",
   "name": "python",
   "nbconvert_exporter": "python",
   "pygments_lexer": "ipython3",
   "version": "3.9.12"
  }
 },
 "nbformat": 4,
 "nbformat_minor": 5
}
