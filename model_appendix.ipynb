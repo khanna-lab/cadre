{
 "cells": [
  {
   "cell_type": "markdown",
   "metadata": {
    "collapsed": true
   },
   "source": [
    "# Technical Appendix: Model Design and Parameters"
   ]
  },
  {
   "cell_type": "code",
   "execution_count": null,
   "metadata": {
    "collapsed": true
   },
   "outputs": [],
   "source": [
    "print(1+2)\n",
    "        "
   ]
  },
  {
   "cell_type": "markdown",
   "metadata": {},
   "source": [
    "## Introduction\n",
    "\n",
    "This is an early draft of what will become the companion Appendix to the modeling \n",
    "papers that we publish. Narrative text and the R code are interwoven. The computer code is also available in a public [GitHub repository](https://github.com/khanna7/cadre). \n",
    "\n",
    "This is written as a[Jupyter Notebook](https://jupyter.org/try-jupyter/retro/notebooks/?path=notebooks/Intro.ipynb) to facilitate [reproducibility](https://bookdown.org/m_p_sperrin/intro_to_r_2020/projects-and-reproducibility.html). One advantage of this format is that the data sources, decisions about parameterization, and the computer code implementing these decisions all exist in one place. This sychronization makes it easier to understand the reasoning behind the decisions made, and document the data sources as I go. The document can also be automatically updated whenever the underlying code or data change.\n",
    "\n",
    "This is my first attempt at a full-scale reproducible document; please bear with me as I figure out kinks to prepare this in a workable format.\n",
    "\n",
    "## Population Overview\n",
    "\n",
    "A synthetic population consisting of `r n` agents between 18 and 64 years of age is simulated in an agent-based model (ABM) with social network structure. This simulated population is broadly representative of the 18-64 year old population of RI. The population size is deliberately kept small in the early stages to make the model more  efficient in terms of computation time. \n",
    "\n",
    "Each individual is assigned a set of demographic characteristics (age, race, sex), behavioral profiles (smoking, alcohol use), incarceration history. Feedback loops between the impacts of incarceration on smoking and alcohol use are simulated in the criminal-justice involved persons, and their social networks.   "
   ]
  },
  {
   "cell_type": "code",
   "execution_count": null,
   "metadata": {
    "collapsed": true
   },
   "outputs": [],
   "source": []
  },
  {
   "cell_type": "code",
   "execution_count": null,
   "metadata": {
    "collapsed": true
   },
   "outputs": [],
   "source": []
  }
 ],
 "metadata": {
  "kernelspec": {
   "display_name": "Python 3 (ipykernel)",
   "language": "python",
   "name": "python3"
  }
 },
 "nbformat": 4,
 "nbformat_minor": 2
}
