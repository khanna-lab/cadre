{
 "cells": [
  {
   "cell_type": "code",
   "execution_count": 1,
   "id": "e1f4bcfe",
   "metadata": {},
   "outputs": [],
   "source": [
    "# Import the needed packages\n",
    "\n",
    "import pandas as pd\n",
    "import numpy as np\n",
    "import matplotlib\n",
    "from matplotlib import pylab as plt\n",
    "import seaborn as sns\n",
    "import networkx as nx"
   ]
  },
  {
   "cell_type": "code",
   "execution_count": 2,
   "id": "9bb24e59",
   "metadata": {},
   "outputs": [],
   "source": [
    "# read in the needed data\n",
    "\n",
    "#agent_log_df = pd.read_csv('/users/yzhan636/data/akhann16/cadre_simulated_data/2022-09-30/agent_log.csv')\n",
    "#counts_log_df = pd.read_csv('/users/yzhan636/data/akhann16/cadre_simulated_data/2022-09-30/counts_log.csv')\n",
    "#network_log_df = pd.read_csv('/users/yzhan636/data/akhann16/cadre_simulated_data/2022-09-30/network_log.csv')\n",
    "\n",
    "agent_log_1_df = pd.read_csv('/users/yzhan636/data/akhann16/cadre_simulated_data/2022-09-30/agent_log_1.csv')\n",
    "counts_log_1_df = pd.read_csv('/users/yzhan636/data/akhann16/cadre_simulated_data/2022-09-30/counts_log_1.csv')\n",
    "network_log_1_df = pd.read_csv('/users/yzhan636/data/akhann16/cadre_simulated_data/2022-09-30/network_log_1.csv')"
   ]
  },
  {
   "cell_type": "code",
   "execution_count": 3,
   "id": "4419eff3",
   "metadata": {},
   "outputs": [],
   "source": [
    "network_log_1_df_time_0 = network_log_1_df.loc[network_log_1_df['tick'] == 0]\n",
    "network_log_1_df_time_1 = network_log_1_df.loc[network_log_1_df['tick'] == 1]\n",
    "network_log_1_df_time_91 = network_log_1_df.loc[network_log_1_df['tick'] == 91]\n",
    "network_log_1_df_time_491 = network_log_1_df.loc[network_log_1_df['tick'] == 491]\n",
    "network_log_1_df_time_991 = network_log_1_df.loc[network_log_1_df['tick'] == 991]\n",
    "\n",
    "agent_log_1_df_time_0 = agent_log_1_df.loc[agent_log_1_df['tick'] == 0]\n",
    "agent_log_1_df_time_1 = agent_log_1_df.loc[agent_log_1_df['tick'] == 1]\n",
    "agent_log_1_df_time_91 = agent_log_1_df.loc[agent_log_1_df['tick'] == 91]\n",
    "agent_log_1_df_time_491 = agent_log_1_df.loc[agent_log_1_df['tick'] == 491]\n",
    "agent_log_1_df_time_991 = agent_log_1_df.loc[agent_log_1_df['tick'] == 991]"
   ]
  },
  {
   "cell_type": "code",
   "execution_count": 4,
   "id": "42b2ce8a",
   "metadata": {},
   "outputs": [
    {
     "name": "stdout",
     "output_type": "stream",
     "text": [
      "[10020, 10042, 10089, 10181, 10197]\n"
     ]
    }
   ],
   "source": [
    "agent_log_1_df_time_1_list = agent_log_1_df_time_1['agent_id'].tolist()\n",
    "agent_log_1_df_time_91_list = agent_log_1_df_time_91['agent_id'].tolist()\n",
    "\n",
    "\n",
    "not_in = []\n",
    "\n",
    "for item in agent_log_1_df_time_1_list: \n",
    "    if item not in agent_log_1_df_time_91_list: \n",
    "        not_in.append(item)\n",
    "\n",
    "print(not_in)"
   ]
  },
  {
   "cell_type": "code",
   "execution_count": 5,
   "id": "bfa61be7",
   "metadata": {},
   "outputs": [],
   "source": [
    "def compare_agent_difference(time_a, time_b):\n",
    "    agent_log_1_df_time_a = agent_log_1_df.loc[agent_log_1_df['tick'] == time_a]\n",
    "    agent_log_1_df_time_b = agent_log_1_df.loc[agent_log_1_df['tick'] == time_b]\n",
    "    \n",
    "    agent_log_1_df_time_a_list = agent_log_1_df_time_a['agent_id'].tolist()\n",
    "    agent_log_1_df_time_b_list = agent_log_1_df_time_b['agent_id'].tolist()\n",
    "    \n",
    "    agents_in_a_but_not_in_b = []\n",
    "    agents_in_b_but_not_in_a = []\n",
    "    \n",
    "    for item in agent_log_1_df_time_a_list: \n",
    "        if item not in agent_log_1_df_time_b_list: \n",
    "            agents_in_a_but_not_in_b.append(item)\n",
    "    \n",
    "    for item in agent_log_1_df_time_b_list: \n",
    "        if item not in agent_log_1_df_time_a_list: \n",
    "            agents_in_b_but_not_in_a.append(item)\n",
    "            \n",
    "    print(\"Here are the agents in time\", time_a, \"but not in time\", time_b, agents_in_a_but_not_in_b)\n",
    "    print(\"Here are the agents in time\", time_b, \"but not in time\", time_a, agents_in_b_but_not_in_a)\n"
   ]
  },
  {
   "cell_type": "code",
   "execution_count": 6,
   "id": "e9915ebe",
   "metadata": {},
   "outputs": [
    {
     "name": "stdout",
     "output_type": "stream",
     "text": [
      "Here are the agents in time 1 but not in time 91 [10020, 10042, 10089, 10181, 10197]\n",
      "Here are the agents in time 91 but not in time 1 [10211, 10212, 10213, 10214, 10215]\n"
     ]
    }
   ],
   "source": [
    "compare_agent_difference(1, 91)"
   ]
  },
  {
   "cell_type": "code",
   "execution_count": 7,
   "id": "0d4c54c0",
   "metadata": {},
   "outputs": [
    {
     "name": "stdout",
     "output_type": "stream",
     "text": [
      "Here are the agents in time 1 but not in time 491 [30, 81, 134, 174, 198, 253, 295, 342, 441, 468, 501, 503, 600, 621, 644, 648, 775, 782, 790, 825, 854, 873, 908, 918, 1114, 1184, 1201, 1285, 1371, 1497, 1519, 1687, 1688, 1714, 1926, 1943, 1980, 2014, 2022, 2024, 2113, 2157, 2234, 2277, 2305, 2325, 2424, 2453, 2483, 2492, 2510, 2599, 2601, 2627, 2691, 2714, 2813, 2814, 2984, 2987, 3119, 3143, 3152, 3279, 3310, 3328, 3338, 3379, 3391, 3488, 3513, 3561, 3665, 3734, 3749, 3824, 3856, 3957, 4032, 4143, 4191, 4260, 4264, 4270, 4273, 4328, 4345, 4358, 4627, 4643, 4685, 4719, 4816, 4817, 4863, 4887, 4939, 4962, 4988, 5039, 5081, 5110, 5175, 5182, 5200, 5244, 5299, 5340, 5414, 5423, 5482, 5491, 5496, 5536, 5649, 5658, 5661, 5693, 5806, 5901, 5926, 5991, 5999, 6048, 6052, 6081, 6101, 6132, 6154, 6224, 6230, 6238, 6344, 6368, 6492, 6580, 6602, 6614, 6623, 6681, 6694, 6765, 6790, 6812, 6871, 6905, 6919, 6963, 6968, 7002, 7053, 7107, 7283, 7626, 7696, 7743, 7747, 7753, 7802, 7812, 7815, 7881, 7915, 8036, 8058, 8115, 8208, 8218, 8340, 8341, 8409, 8415, 8589, 8629, 8650, 8660, 8779, 8846, 8888, 8897, 8898, 8910, 9002, 9114, 9165, 9421, 9503, 9537, 9626, 9627, 9638, 9643, 9743, 9774, 9824, 9972, 9986, 10020, 10042, 10069, 10089, 10096, 10112, 10128, 10148, 10159, 10181, 10197, 10201]\n",
      "Here are the agents in time 491 but not in time 1 [10211, 10212, 10213, 10214, 10215, 10216, 10217, 10218, 10219, 10220, 10221, 10222, 10223, 10224, 10225, 10226, 10227, 10228, 10229, 10230, 10231, 10232, 10233, 10234, 10235, 10236, 10237, 10238, 10239, 10240, 10241, 10242, 10243, 10244, 10245, 10246, 10247, 10248, 10249, 10250, 10251, 10252, 10253, 10254, 10255, 10256, 10257, 10258, 10259, 10260, 10261, 10262, 10263, 10264, 10265, 10266, 10267, 10268, 10269, 10270, 10271, 10272, 10273, 10274, 10275, 10276, 10278, 10279, 10280, 10281, 10282, 10283, 10284, 10285, 10286, 10287, 10288, 10289, 10290, 10291, 10292, 10293, 10294, 10295, 10296, 10297, 10298, 10299, 10300, 10301, 10302, 10303, 10304, 10305, 10306, 10307, 10308, 10309, 10310, 10311, 10312, 10313, 10314, 10315, 10316, 10317, 10318, 10320, 10321, 10322, 10323, 10324, 10325, 10326, 10327, 10328, 10329, 10330, 10331, 10332, 10333, 10334, 10335, 10336, 10337, 10338, 10339, 10340, 10341, 10342, 10343, 10344, 10345, 10346, 10347, 10348, 10349, 10350, 10351, 10352, 10353, 10354, 10355, 10356, 10357, 10358, 10359, 10360, 10361, 10362, 10363, 10364, 10365, 10366, 10367, 10368, 10369, 10370, 10371, 10372, 10373, 10374, 10375, 10376, 10377, 10378, 10379, 10380, 10381, 10382, 10383, 10384, 10385, 10386, 10387, 10388, 10389, 10390, 10391, 10392, 10393, 10394, 10395, 10396, 10397, 10398, 10399, 10400, 10401, 10402, 10403, 10404, 10406, 10407, 10408, 10409, 10410, 10411, 10412, 10413, 10414, 10415, 10416, 10417, 10418, 10419, 10420, 10421, 10422]\n"
     ]
    }
   ],
   "source": [
    "compare_agent_difference(1, 491)"
   ]
  },
  {
   "cell_type": "code",
   "execution_count": 8,
   "id": "83c3e2f3",
   "metadata": {},
   "outputs": [
    {
     "name": "stdout",
     "output_type": "stream",
     "text": [
      "Here are the agents in time 1 but not in time 991 [30, 76, 81, 90, 129, 134, 174, 197, 198, 209, 253, 295, 342, 368, 441, 468, 501, 503, 522, 538, 562, 576, 600, 621, 644, 648, 667, 670, 722, 775, 782, 790, 825, 840, 854, 873, 908, 918, 948, 1005, 1048, 1114, 1142, 1184, 1201, 1247, 1281, 1285, 1295, 1299, 1301, 1371, 1406, 1458, 1497, 1519, 1546, 1593, 1641, 1669, 1687, 1688, 1690, 1712, 1714, 1751, 1809, 1826, 1835, 1886, 1926, 1943, 1964, 1980, 1990, 2014, 2022, 2024, 2068, 2102, 2113, 2157, 2207, 2223, 2234, 2253, 2277, 2305, 2325, 2360, 2411, 2424, 2453, 2483, 2492, 2503, 2510, 2517, 2578, 2585, 2599, 2601, 2627, 2678, 2691, 2714, 2745, 2748, 2813, 2814, 2831, 2938, 2945, 2984, 2987, 3119, 3129, 3140, 3143, 3152, 3179, 3217, 3239, 3262, 3279, 3310, 3328, 3338, 3352, 3360, 3361, 3379, 3391, 3392, 3409, 3423, 3435, 3471, 3488, 3505, 3513, 3545, 3561, 3665, 3678, 3706, 3734, 3749, 3824, 3827, 3847, 3856, 3957, 3960, 3987, 4023, 4029, 4032, 4089, 4103, 4105, 4143, 4155, 4180, 4191, 4260, 4261, 4264, 4266, 4270, 4273, 4302, 4320, 4327, 4328, 4345, 4358, 4376, 4437, 4511, 4554, 4600, 4601, 4627, 4643, 4648, 4675, 4685, 4695, 4700, 4719, 4724, 4731, 4742, 4747, 4779, 4796, 4816, 4817, 4821, 4845, 4855, 4863, 4887, 4903, 4905, 4939, 4961, 4962, 4974, 4988, 5039, 5041, 5058, 5081, 5110, 5137, 5175, 5182, 5200, 5244, 5294, 5299, 5340, 5341, 5347, 5414, 5423, 5436, 5453, 5482, 5491, 5493, 5496, 5511, 5531, 5536, 5555, 5557, 5608, 5629, 5647, 5649, 5658, 5661, 5666, 5693, 5733, 5759, 5806, 5837, 5898, 5901, 5926, 5962, 5991, 5999, 6048, 6052, 6079, 6081, 6101, 6113, 6132, 6154, 6195, 6205, 6224, 6230, 6238, 6280, 6322, 6344, 6354, 6357, 6368, 6451, 6480, 6492, 6499, 6560, 6569, 6580, 6602, 6614, 6620, 6623, 6681, 6694, 6751, 6761, 6765, 6790, 6812, 6816, 6871, 6904, 6905, 6919, 6960, 6963, 6968, 7002, 7047, 7053, 7094, 7107, 7160, 7230, 7258, 7264, 7283, 7394, 7425, 7438, 7478, 7479, 7535, 7548, 7553, 7562, 7626, 7627, 7629, 7688, 7696, 7743, 7747, 7753, 7802, 7812, 7815, 7816, 7820, 7840, 7880, 7881, 7913, 7915, 7979, 8017, 8036, 8043, 8058, 8115, 8133, 8208, 8218, 8221, 8303, 8317, 8340, 8341, 8409, 8415, 8476, 8502, 8589, 8597, 8629, 8650, 8660, 8662, 8779, 8846, 8852, 8860, 8888, 8897, 8898, 8910, 8916, 8985, 9002, 9114, 9165, 9238, 9242, 9259, 9378, 9421, 9453, 9459, 9492, 9498, 9503, 9537, 9544, 9580, 9586, 9599, 9626, 9627, 9638, 9643, 9651, 9671, 9711, 9716, 9743, 9774, 9806, 9818, 9824, 9839, 9884, 9899, 9928, 9932, 9947, 9972, 9986, 10020, 10042, 10069, 10089, 10096, 10103, 10112, 10128, 10148, 10159, 10181, 10196, 10197, 10201]\n",
      "Here are the agents in time 991 but not in time 1 [10211, 10212, 10213, 10214, 10215, 10216, 10217, 10218, 10219, 10220, 10221, 10222, 10223, 10224, 10225, 10226, 10227, 10228, 10229, 10230, 10231, 10232, 10233, 10234, 10235, 10236, 10237, 10238, 10239, 10240, 10241, 10242, 10243, 10244, 10245, 10246, 10247, 10248, 10249, 10250, 10251, 10252, 10253, 10254, 10255, 10256, 10257, 10258, 10259, 10260, 10261, 10262, 10263, 10264, 10265, 10266, 10267, 10268, 10269, 10270, 10271, 10272, 10273, 10274, 10275, 10278, 10279, 10280, 10281, 10282, 10283, 10284, 10285, 10286, 10287, 10288, 10289, 10290, 10291, 10292, 10293, 10294, 10295, 10296, 10297, 10298, 10299, 10300, 10301, 10302, 10303, 10304, 10305, 10306, 10307, 10308, 10309, 10310, 10311, 10312, 10313, 10314, 10315, 10316, 10317, 10318, 10320, 10321, 10322, 10323, 10324, 10325, 10326, 10327, 10328, 10329, 10330, 10331, 10332, 10333, 10334, 10335, 10336, 10337, 10338, 10339, 10340, 10341, 10342, 10343, 10344, 10345, 10346, 10347, 10348, 10349, 10350, 10351, 10352, 10353, 10354, 10355, 10356, 10357, 10358, 10359, 10360, 10361, 10362, 10363, 10364, 10365, 10366, 10367, 10368, 10369, 10370, 10372, 10373, 10374, 10375, 10376, 10377, 10378, 10379, 10380, 10381, 10382, 10383, 10384, 10385, 10386, 10387, 10388, 10389, 10390, 10391, 10392, 10393, 10394, 10395, 10396, 10397, 10398, 10399, 10400, 10401, 10402, 10403, 10404, 10406, 10407, 10408, 10409, 10410, 10411, 10412, 10413, 10414, 10415, 10416, 10417, 10418, 10419, 10420, 10421, 10422, 10423, 10424, 10425, 10426, 10427, 10428, 10429, 10430, 10431, 10432, 10433, 10434, 10435, 10436, 10437, 10438, 10439, 10440, 10441, 10442, 10443, 10444, 10445, 10446, 10447, 10448, 10449, 10450, 10451, 10452, 10453, 10454, 10455, 10456, 10457, 10458, 10459, 10460, 10461, 10462, 10463, 10464, 10465, 10466, 10467, 10468, 10469, 10470, 10471, 10472, 10473, 10474, 10475, 10476, 10477, 10478, 10479, 10480, 10481, 10482, 10483, 10484, 10485, 10486, 10487, 10488, 10489, 10490, 10491, 10492, 10493, 10494, 10495, 10496, 10497, 10498, 10499, 10500, 10501, 10502, 10503, 10504, 10505, 10506, 10507, 10508, 10509, 10510, 10511, 10512, 10513, 10514, 10515, 10516, 10517, 10518, 10519, 10520, 10521, 10522, 10523, 10524, 10525, 10526, 10527, 10528, 10529, 10530, 10531, 10532, 10533, 10534, 10535, 10536, 10537, 10538, 10539, 10540, 10541, 10542, 10543, 10544, 10545, 10546, 10547, 10548, 10549, 10550, 10551, 10552, 10553, 10554, 10555, 10556, 10557, 10558, 10559, 10560, 10561, 10562, 10563, 10564, 10565, 10566, 10567, 10568, 10569, 10570, 10571, 10572, 10573, 10574, 10575, 10576, 10577, 10578, 10579, 10580, 10581, 10582, 10583, 10584, 10585, 10586, 10587, 10588, 10589, 10590, 10591, 10593, 10594, 10595, 10596, 10597, 10598, 10599, 10600, 10601, 10602, 10604, 10605, 10606, 10607, 10608, 10609, 10610, 10611, 10612, 10613, 10614, 10615, 10616, 10617, 10618, 10619, 10620, 10621, 10622, 10623, 10624, 10625, 10626, 10627, 10628, 10629, 10630, 10631, 10632, 10633, 10634, 10635, 10636, 10637, 10638, 10639, 10640, 10641, 10642, 10643]\n"
     ]
    }
   ],
   "source": [
    "compare_agent_difference(1, 991)"
   ]
  },
  {
   "cell_type": "code",
   "execution_count": 9,
   "id": "a902dcb5",
   "metadata": {},
   "outputs": [
    {
     "name": "stdout",
     "output_type": "stream",
     "text": [
      "Here are the agents in time 491 but not in time 491 []\n",
      "Here are the agents in time 491 but not in time 491 []\n"
     ]
    }
   ],
   "source": [
    "compare_agent_difference(491, 491)"
   ]
  },
  {
   "cell_type": "code",
   "execution_count": 10,
   "id": "57986503",
   "metadata": {},
   "outputs": [
    {
     "name": "stdout",
     "output_type": "stream",
     "text": [
      "Empty DataFrame\n",
      "Columns: [tick, p1, p2]\n",
      "Index: []\n",
      "Empty DataFrame\n",
      "Columns: [tick, agent_id, agent_age, agent_race, agent_female, agent_alc_use_status, agent_smoking_status, agent_last_incarceration_tick, agent_last_release_tick, agent_current_incarceration_status]\n",
      "Index: []\n"
     ]
    }
   ],
   "source": [
    "# Now we want to make sure that if time 0 exists\n",
    "print(network_log_1_df_time_0)\n",
    "print(agent_log_1_df_time_0)\n",
    "\n",
    "#Nope, time 0 does not exist"
   ]
  },
  {
   "cell_type": "code",
   "execution_count": 11,
   "id": "b63df97e",
   "metadata": {},
   "outputs": [
    {
     "name": "stdout",
     "output_type": "stream",
     "text": [
      "       tick\n",
      "tick       \n",
      "1     50231\n",
      "11    50245\n",
      "21    50245\n",
      "31    50245\n",
      "41    50245\n",
      "...     ...\n",
      "951   50040\n",
      "961   50040\n",
      "971   50040\n",
      "981   50040\n",
      "991   50040\n",
      "\n",
      "[100 rows x 1 columns]\n"
     ]
    }
   ],
   "source": [
    "# Print out the number of connections in each time step\n",
    "network_1_count_summary = network_log_1_df.groupby(['tick'])['tick'].count()\n",
    "network_1_count_summary = pd.DataFrame(data=network_1_count_summary)\n",
    "print(network_1_count_summary)\n",
    "\n",
    "# The first time starts at time 1"
   ]
  },
  {
   "cell_type": "code",
   "execution_count": 13,
   "id": "50bccc53",
   "metadata": {},
   "outputs": [
    {
     "name": "stdout",
     "output_type": "stream",
     "text": [
      "211\n",
      "211\n"
     ]
    }
   ],
   "source": [
    "# Problem ？？\n",
    "\n",
    "full_10000_list = []\n",
    "\n",
    "for i in range(10000):\n",
    "    full_10000_list.append(i)\n",
    "    \n",
    "in_10000_but_not_in_time_1 = []\n",
    "in_time_1_but_not_in_10000 = []\n",
    "\n",
    "for item in full_10000_list: \n",
    "    if item not in agent_log_1_df_time_1_list: \n",
    "        in_10000_but_not_in_time_1.append(item)\n",
    "        \n",
    "for item in agent_log_1_df_time_1_list: \n",
    "    if item not in full_10000_list: \n",
    "        in_time_1_but_not_in_10000.append(item)\n",
    "\n",
    "print(len(in_10000_but_not_in_time_1))\n",
    "print(len(in_time_1_but_not_in_10000))"
   ]
  },
  {
   "cell_type": "code",
   "execution_count": null,
   "id": "e8891702",
   "metadata": {},
   "outputs": [],
   "source": []
  },
  {
   "cell_type": "code",
   "execution_count": null,
   "id": "4d09f1a2",
   "metadata": {},
   "outputs": [],
   "source": []
  },
  {
   "cell_type": "code",
   "execution_count": null,
   "id": "f0c052db",
   "metadata": {},
   "outputs": [],
   "source": []
  }
 ],
 "metadata": {
  "kernelspec": {
   "display_name": "Python 3 (ipykernel)",
   "language": "python",
   "name": "python3"
  },
  "language_info": {
   "codemirror_mode": {
    "name": "ipython",
    "version": 3
   },
   "file_extension": ".py",
   "mimetype": "text/x-python",
   "name": "python",
   "nbconvert_exporter": "python",
   "pygments_lexer": "ipython3",
   "version": "3.9.12"
  }
 },
 "nbformat": 4,
 "nbformat_minor": 5
}
